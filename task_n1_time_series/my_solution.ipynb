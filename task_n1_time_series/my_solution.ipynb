{
 "cells": [
  {
   "cell_type": "code",
   "execution_count": 1,
   "id": "9f9b8b28-b1ab-4e76-b553-cef2d77b1c0c",
   "metadata": {},
   "outputs": [],
   "source": [
    "import pandas as pd\n",
    "from sklearn.preprocessing import StandardScaler\n",
    "import numpy as np\n",
    "import matplotlib.pyplot as plt\n",
    "from typing import Tuple\n",
    "\n",
    "import plotly.io as pio\n",
    "pio.renderers.default = 'iframe' "
   ]
  },
  {
   "cell_type": "code",
   "execution_count": 2,
   "id": "4ca0c47f-9efa-46cc-997d-2b983625c63e",
   "metadata": {},
   "outputs": [],
   "source": [
    "import torch\n",
    "from torch.utils.data import DataLoader\n",
    "import torch.nn as nn"
   ]
  },
  {
   "cell_type": "code",
   "execution_count": 3,
   "id": "5c261f8f-b962-4f7d-ab49-676fdb0c2c69",
   "metadata": {},
   "outputs": [],
   "source": [
    "from utils.DS import DS, train_test, pd2tensor, time2int, int2time\n",
    "from utils.NN import Net_Line_regres, Net_Snake #, SnakeNet, One_layer\n",
    "from utils.train import Train\n",
    "from utils.test import Test\n",
    "from utils.metric import Metric_hist, History_keeper\n",
    "from utils.plot_bar import plot_ts_pred, plot_hist_loss"
   ]
  },
  {
   "cell_type": "markdown",
   "id": "6c65b335-88f2-4241-96ba-9330191298d2",
   "metadata": {},
   "source": [
    "# Prapare data"
   ]
  },
  {
   "cell_type": "code",
   "execution_count": 4,
   "id": "722ad5cf-176b-4e6c-92a5-863c6b190dd8",
   "metadata": {},
   "outputs": [],
   "source": [
    "# Import the 5 years of hourly energy consumption data previously cleaned, explored, feature-engineered and... \n",
    "# ..stored as hourly1418_energy_temp_PV.csv\n",
    "\n",
    "sdge = pd.read_csv('hourly1418_energy_temp_PV.csv', index_col = 'Dates', parse_dates=['Dates', 'Date'])"
   ]
  },
  {
   "cell_type": "code",
   "execution_count": 5,
   "id": "ef41ad85-8253-4e1f-89b2-a654664ffbc9",
   "metadata": {},
   "outputs": [
    {
     "data": {
      "text/html": [
       "<div>\n",
       "<style scoped>\n",
       "    .dataframe tbody tr th:only-of-type {\n",
       "        vertical-align: middle;\n",
       "    }\n",
       "\n",
       "    .dataframe tbody tr th {\n",
       "        vertical-align: top;\n",
       "    }\n",
       "\n",
       "    .dataframe thead th {\n",
       "        text-align: right;\n",
       "    }\n",
       "</style>\n",
       "<table border=\"1\" class=\"dataframe\">\n",
       "  <thead>\n",
       "    <tr style=\"text-align: right;\">\n",
       "      <th></th>\n",
       "      <th>SDGE</th>\n",
       "      <th>Date</th>\n",
       "      <th>year</th>\n",
       "      <th>month</th>\n",
       "      <th>day</th>\n",
       "      <th>hour</th>\n",
       "      <th>weekday</th>\n",
       "      <th>season</th>\n",
       "      <th>holiday</th>\n",
       "      <th>non_working</th>\n",
       "      <th>STATION</th>\n",
       "      <th>DailyCoolingDegreeDays</th>\n",
       "      <th>DailyHeatingDegreeDays</th>\n",
       "      <th>HourlyDryBulbTemperature</th>\n",
       "      <th>AC_kW</th>\n",
       "      <th>cum_AC_kW</th>\n",
       "    </tr>\n",
       "    <tr>\n",
       "      <th>Dates</th>\n",
       "      <th></th>\n",
       "      <th></th>\n",
       "      <th></th>\n",
       "      <th></th>\n",
       "      <th></th>\n",
       "      <th></th>\n",
       "      <th></th>\n",
       "      <th></th>\n",
       "      <th></th>\n",
       "      <th></th>\n",
       "      <th></th>\n",
       "      <th></th>\n",
       "      <th></th>\n",
       "      <th></th>\n",
       "      <th></th>\n",
       "      <th></th>\n",
       "    </tr>\n",
       "  </thead>\n",
       "  <tbody>\n",
       "    <tr>\n",
       "      <th>2014-01-01 00:00:00</th>\n",
       "      <td>2096.000000</td>\n",
       "      <td>2014-01-01</td>\n",
       "      <td>2014</td>\n",
       "      <td>1</td>\n",
       "      <td>1</td>\n",
       "      <td>0</td>\n",
       "      <td>Wednesday</td>\n",
       "      <td>winter</td>\n",
       "      <td>1</td>\n",
       "      <td>non-working</td>\n",
       "      <td>72290023188</td>\n",
       "      <td>0.0</td>\n",
       "      <td>7.0</td>\n",
       "      <td>51.0</td>\n",
       "      <td>0.000</td>\n",
       "      <td>220992.227</td>\n",
       "    </tr>\n",
       "    <tr>\n",
       "      <th>2014-01-01 01:00:00</th>\n",
       "      <td>1986.000000</td>\n",
       "      <td>2014-01-01</td>\n",
       "      <td>2014</td>\n",
       "      <td>1</td>\n",
       "      <td>1</td>\n",
       "      <td>1</td>\n",
       "      <td>Wednesday</td>\n",
       "      <td>winter</td>\n",
       "      <td>1</td>\n",
       "      <td>non-working</td>\n",
       "      <td>72290023188</td>\n",
       "      <td>0.0</td>\n",
       "      <td>7.0</td>\n",
       "      <td>51.5</td>\n",
       "      <td>0.000</td>\n",
       "      <td>220992.227</td>\n",
       "    </tr>\n",
       "    <tr>\n",
       "      <th>2014-01-01 02:00:00</th>\n",
       "      <td>1936.000000</td>\n",
       "      <td>2014-01-01</td>\n",
       "      <td>2014</td>\n",
       "      <td>1</td>\n",
       "      <td>1</td>\n",
       "      <td>2</td>\n",
       "      <td>Wednesday</td>\n",
       "      <td>winter</td>\n",
       "      <td>1</td>\n",
       "      <td>non-working</td>\n",
       "      <td>72290023188</td>\n",
       "      <td>0.0</td>\n",
       "      <td>7.0</td>\n",
       "      <td>51.8</td>\n",
       "      <td>0.000</td>\n",
       "      <td>220992.227</td>\n",
       "    </tr>\n",
       "    <tr>\n",
       "      <th>2014-01-01 03:00:00</th>\n",
       "      <td>1896.000000</td>\n",
       "      <td>2014-01-01</td>\n",
       "      <td>2014</td>\n",
       "      <td>1</td>\n",
       "      <td>1</td>\n",
       "      <td>3</td>\n",
       "      <td>Wednesday</td>\n",
       "      <td>winter</td>\n",
       "      <td>1</td>\n",
       "      <td>non-working</td>\n",
       "      <td>72290023188</td>\n",
       "      <td>0.0</td>\n",
       "      <td>7.0</td>\n",
       "      <td>50.0</td>\n",
       "      <td>0.000</td>\n",
       "      <td>220992.227</td>\n",
       "    </tr>\n",
       "    <tr>\n",
       "      <th>2014-01-01 04:00:00</th>\n",
       "      <td>1899.000000</td>\n",
       "      <td>2014-01-01</td>\n",
       "      <td>2014</td>\n",
       "      <td>1</td>\n",
       "      <td>1</td>\n",
       "      <td>4</td>\n",
       "      <td>Wednesday</td>\n",
       "      <td>winter</td>\n",
       "      <td>1</td>\n",
       "      <td>non-working</td>\n",
       "      <td>72290023188</td>\n",
       "      <td>0.0</td>\n",
       "      <td>7.0</td>\n",
       "      <td>48.8</td>\n",
       "      <td>0.000</td>\n",
       "      <td>220992.227</td>\n",
       "    </tr>\n",
       "    <tr>\n",
       "      <th>...</th>\n",
       "      <td>...</td>\n",
       "      <td>...</td>\n",
       "      <td>...</td>\n",
       "      <td>...</td>\n",
       "      <td>...</td>\n",
       "      <td>...</td>\n",
       "      <td>...</td>\n",
       "      <td>...</td>\n",
       "      <td>...</td>\n",
       "      <td>...</td>\n",
       "      <td>...</td>\n",
       "      <td>...</td>\n",
       "      <td>...</td>\n",
       "      <td>...</td>\n",
       "      <td>...</td>\n",
       "      <td>...</td>\n",
       "    </tr>\n",
       "    <tr>\n",
       "      <th>2018-12-31 19:00:00</th>\n",
       "      <td>2609.685890</td>\n",
       "      <td>2018-12-31</td>\n",
       "      <td>2018</td>\n",
       "      <td>12</td>\n",
       "      <td>31</td>\n",
       "      <td>19</td>\n",
       "      <td>Monday</td>\n",
       "      <td>winter</td>\n",
       "      <td>0</td>\n",
       "      <td>working</td>\n",
       "      <td>72290023188</td>\n",
       "      <td>0.0</td>\n",
       "      <td>10.0</td>\n",
       "      <td>50.0</td>\n",
       "      <td>1098.046</td>\n",
       "      <td>1034385.178</td>\n",
       "    </tr>\n",
       "    <tr>\n",
       "      <th>2018-12-31 20:00:00</th>\n",
       "      <td>2504.283858</td>\n",
       "      <td>2018-12-31</td>\n",
       "      <td>2018</td>\n",
       "      <td>12</td>\n",
       "      <td>31</td>\n",
       "      <td>20</td>\n",
       "      <td>Monday</td>\n",
       "      <td>winter</td>\n",
       "      <td>0</td>\n",
       "      <td>working</td>\n",
       "      <td>72290023188</td>\n",
       "      <td>0.0</td>\n",
       "      <td>10.0</td>\n",
       "      <td>50.0</td>\n",
       "      <td>1098.046</td>\n",
       "      <td>1034385.178</td>\n",
       "    </tr>\n",
       "    <tr>\n",
       "      <th>2018-12-31 21:00:00</th>\n",
       "      <td>2389.460971</td>\n",
       "      <td>2018-12-31</td>\n",
       "      <td>2018</td>\n",
       "      <td>12</td>\n",
       "      <td>31</td>\n",
       "      <td>21</td>\n",
       "      <td>Monday</td>\n",
       "      <td>winter</td>\n",
       "      <td>0</td>\n",
       "      <td>working</td>\n",
       "      <td>72290023188</td>\n",
       "      <td>0.0</td>\n",
       "      <td>10.0</td>\n",
       "      <td>51.0</td>\n",
       "      <td>1098.046</td>\n",
       "      <td>1034385.178</td>\n",
       "    </tr>\n",
       "    <tr>\n",
       "      <th>2018-12-31 22:00:00</th>\n",
       "      <td>2259.741640</td>\n",
       "      <td>2018-12-31</td>\n",
       "      <td>2018</td>\n",
       "      <td>12</td>\n",
       "      <td>31</td>\n",
       "      <td>22</td>\n",
       "      <td>Monday</td>\n",
       "      <td>winter</td>\n",
       "      <td>0</td>\n",
       "      <td>working</td>\n",
       "      <td>72290023188</td>\n",
       "      <td>0.0</td>\n",
       "      <td>10.0</td>\n",
       "      <td>51.0</td>\n",
       "      <td>1098.046</td>\n",
       "      <td>1034385.178</td>\n",
       "    </tr>\n",
       "    <tr>\n",
       "      <th>2018-12-31 23:00:00</th>\n",
       "      <td>2123.183153</td>\n",
       "      <td>2018-12-31</td>\n",
       "      <td>2018</td>\n",
       "      <td>12</td>\n",
       "      <td>31</td>\n",
       "      <td>23</td>\n",
       "      <td>Monday</td>\n",
       "      <td>winter</td>\n",
       "      <td>0</td>\n",
       "      <td>working</td>\n",
       "      <td>72290023188</td>\n",
       "      <td>0.0</td>\n",
       "      <td>10.0</td>\n",
       "      <td>50.0</td>\n",
       "      <td>1098.046</td>\n",
       "      <td>1034385.178</td>\n",
       "    </tr>\n",
       "  </tbody>\n",
       "</table>\n",
       "<p>43824 rows × 16 columns</p>\n",
       "</div>"
      ],
      "text/plain": [
       "                            SDGE       Date  year  month  day  hour  \\\n",
       "Dates                                                                 \n",
       "2014-01-01 00:00:00  2096.000000 2014-01-01  2014      1    1     0   \n",
       "2014-01-01 01:00:00  1986.000000 2014-01-01  2014      1    1     1   \n",
       "2014-01-01 02:00:00  1936.000000 2014-01-01  2014      1    1     2   \n",
       "2014-01-01 03:00:00  1896.000000 2014-01-01  2014      1    1     3   \n",
       "2014-01-01 04:00:00  1899.000000 2014-01-01  2014      1    1     4   \n",
       "...                          ...        ...   ...    ...  ...   ...   \n",
       "2018-12-31 19:00:00  2609.685890 2018-12-31  2018     12   31    19   \n",
       "2018-12-31 20:00:00  2504.283858 2018-12-31  2018     12   31    20   \n",
       "2018-12-31 21:00:00  2389.460971 2018-12-31  2018     12   31    21   \n",
       "2018-12-31 22:00:00  2259.741640 2018-12-31  2018     12   31    22   \n",
       "2018-12-31 23:00:00  2123.183153 2018-12-31  2018     12   31    23   \n",
       "\n",
       "                       weekday  season  holiday  non_working      STATION  \\\n",
       "Dates                                                                       \n",
       "2014-01-01 00:00:00  Wednesday  winter        1  non-working  72290023188   \n",
       "2014-01-01 01:00:00  Wednesday  winter        1  non-working  72290023188   \n",
       "2014-01-01 02:00:00  Wednesday  winter        1  non-working  72290023188   \n",
       "2014-01-01 03:00:00  Wednesday  winter        1  non-working  72290023188   \n",
       "2014-01-01 04:00:00  Wednesday  winter        1  non-working  72290023188   \n",
       "...                        ...     ...      ...          ...          ...   \n",
       "2018-12-31 19:00:00     Monday  winter        0      working  72290023188   \n",
       "2018-12-31 20:00:00     Monday  winter        0      working  72290023188   \n",
       "2018-12-31 21:00:00     Monday  winter        0      working  72290023188   \n",
       "2018-12-31 22:00:00     Monday  winter        0      working  72290023188   \n",
       "2018-12-31 23:00:00     Monday  winter        0      working  72290023188   \n",
       "\n",
       "                     DailyCoolingDegreeDays  DailyHeatingDegreeDays  \\\n",
       "Dates                                                                 \n",
       "2014-01-01 00:00:00                     0.0                     7.0   \n",
       "2014-01-01 01:00:00                     0.0                     7.0   \n",
       "2014-01-01 02:00:00                     0.0                     7.0   \n",
       "2014-01-01 03:00:00                     0.0                     7.0   \n",
       "2014-01-01 04:00:00                     0.0                     7.0   \n",
       "...                                     ...                     ...   \n",
       "2018-12-31 19:00:00                     0.0                    10.0   \n",
       "2018-12-31 20:00:00                     0.0                    10.0   \n",
       "2018-12-31 21:00:00                     0.0                    10.0   \n",
       "2018-12-31 22:00:00                     0.0                    10.0   \n",
       "2018-12-31 23:00:00                     0.0                    10.0   \n",
       "\n",
       "                     HourlyDryBulbTemperature     AC_kW    cum_AC_kW  \n",
       "Dates                                                                 \n",
       "2014-01-01 00:00:00                      51.0     0.000   220992.227  \n",
       "2014-01-01 01:00:00                      51.5     0.000   220992.227  \n",
       "2014-01-01 02:00:00                      51.8     0.000   220992.227  \n",
       "2014-01-01 03:00:00                      50.0     0.000   220992.227  \n",
       "2014-01-01 04:00:00                      48.8     0.000   220992.227  \n",
       "...                                       ...       ...          ...  \n",
       "2018-12-31 19:00:00                      50.0  1098.046  1034385.178  \n",
       "2018-12-31 20:00:00                      50.0  1098.046  1034385.178  \n",
       "2018-12-31 21:00:00                      51.0  1098.046  1034385.178  \n",
       "2018-12-31 22:00:00                      51.0  1098.046  1034385.178  \n",
       "2018-12-31 23:00:00                      50.0  1098.046  1034385.178  \n",
       "\n",
       "[43824 rows x 16 columns]"
      ]
     },
     "execution_count": 5,
     "metadata": {},
     "output_type": "execute_result"
    }
   ],
   "source": [
    "sdge"
   ]
  },
  {
   "cell_type": "code",
   "execution_count": 6,
   "id": "c746d13c-ad5b-41e7-88c3-0f91303eb7e1",
   "metadata": {},
   "outputs": [
    {
     "data": {
      "text/html": [
       "<div>\n",
       "<style scoped>\n",
       "    .dataframe tbody tr th:only-of-type {\n",
       "        vertical-align: middle;\n",
       "    }\n",
       "\n",
       "    .dataframe tbody tr th {\n",
       "        vertical-align: top;\n",
       "    }\n",
       "\n",
       "    .dataframe thead th {\n",
       "        text-align: right;\n",
       "    }\n",
       "</style>\n",
       "<table border=\"1\" class=\"dataframe\">\n",
       "  <thead>\n",
       "    <tr style=\"text-align: right;\">\n",
       "      <th></th>\n",
       "      <th>SDGE</th>\n",
       "      <th>Date</th>\n",
       "      <th>year</th>\n",
       "      <th>month</th>\n",
       "      <th>day</th>\n",
       "      <th>hour</th>\n",
       "      <th>weekday</th>\n",
       "      <th>season</th>\n",
       "      <th>holiday</th>\n",
       "      <th>non_working</th>\n",
       "      <th>STATION</th>\n",
       "      <th>DailyCoolingDegreeDays</th>\n",
       "      <th>DailyHeatingDegreeDays</th>\n",
       "      <th>HourlyDryBulbTemperature</th>\n",
       "      <th>AC_kW</th>\n",
       "      <th>cum_AC_kW</th>\n",
       "    </tr>\n",
       "    <tr>\n",
       "      <th>Dates</th>\n",
       "      <th></th>\n",
       "      <th></th>\n",
       "      <th></th>\n",
       "      <th></th>\n",
       "      <th></th>\n",
       "      <th></th>\n",
       "      <th></th>\n",
       "      <th></th>\n",
       "      <th></th>\n",
       "      <th></th>\n",
       "      <th></th>\n",
       "      <th></th>\n",
       "      <th></th>\n",
       "      <th></th>\n",
       "      <th></th>\n",
       "      <th></th>\n",
       "    </tr>\n",
       "  </thead>\n",
       "  <tbody>\n",
       "    <tr>\n",
       "      <th>2014-01-01 00:00:00</th>\n",
       "      <td>2096.000000</td>\n",
       "      <td>2014-01-01</td>\n",
       "      <td>2014</td>\n",
       "      <td>1</td>\n",
       "      <td>1</td>\n",
       "      <td>0</td>\n",
       "      <td>Wednesday</td>\n",
       "      <td>winter</td>\n",
       "      <td>1</td>\n",
       "      <td>non-working</td>\n",
       "      <td>72290023188</td>\n",
       "      <td>0.0</td>\n",
       "      <td>7.0</td>\n",
       "      <td>51.0</td>\n",
       "      <td>0.000</td>\n",
       "      <td>220992.227</td>\n",
       "    </tr>\n",
       "    <tr>\n",
       "      <th>2014-01-01 01:00:00</th>\n",
       "      <td>1986.000000</td>\n",
       "      <td>2014-01-01</td>\n",
       "      <td>2014</td>\n",
       "      <td>1</td>\n",
       "      <td>1</td>\n",
       "      <td>1</td>\n",
       "      <td>Wednesday</td>\n",
       "      <td>winter</td>\n",
       "      <td>1</td>\n",
       "      <td>non-working</td>\n",
       "      <td>72290023188</td>\n",
       "      <td>0.0</td>\n",
       "      <td>7.0</td>\n",
       "      <td>51.5</td>\n",
       "      <td>0.000</td>\n",
       "      <td>220992.227</td>\n",
       "    </tr>\n",
       "    <tr>\n",
       "      <th>2014-01-01 02:00:00</th>\n",
       "      <td>1936.000000</td>\n",
       "      <td>2014-01-01</td>\n",
       "      <td>2014</td>\n",
       "      <td>1</td>\n",
       "      <td>1</td>\n",
       "      <td>2</td>\n",
       "      <td>Wednesday</td>\n",
       "      <td>winter</td>\n",
       "      <td>1</td>\n",
       "      <td>non-working</td>\n",
       "      <td>72290023188</td>\n",
       "      <td>0.0</td>\n",
       "      <td>7.0</td>\n",
       "      <td>51.8</td>\n",
       "      <td>0.000</td>\n",
       "      <td>220992.227</td>\n",
       "    </tr>\n",
       "    <tr>\n",
       "      <th>2014-01-01 03:00:00</th>\n",
       "      <td>1896.000000</td>\n",
       "      <td>2014-01-01</td>\n",
       "      <td>2014</td>\n",
       "      <td>1</td>\n",
       "      <td>1</td>\n",
       "      <td>3</td>\n",
       "      <td>Wednesday</td>\n",
       "      <td>winter</td>\n",
       "      <td>1</td>\n",
       "      <td>non-working</td>\n",
       "      <td>72290023188</td>\n",
       "      <td>0.0</td>\n",
       "      <td>7.0</td>\n",
       "      <td>50.0</td>\n",
       "      <td>0.000</td>\n",
       "      <td>220992.227</td>\n",
       "    </tr>\n",
       "    <tr>\n",
       "      <th>2014-01-01 04:00:00</th>\n",
       "      <td>1899.000000</td>\n",
       "      <td>2014-01-01</td>\n",
       "      <td>2014</td>\n",
       "      <td>1</td>\n",
       "      <td>1</td>\n",
       "      <td>4</td>\n",
       "      <td>Wednesday</td>\n",
       "      <td>winter</td>\n",
       "      <td>1</td>\n",
       "      <td>non-working</td>\n",
       "      <td>72290023188</td>\n",
       "      <td>0.0</td>\n",
       "      <td>7.0</td>\n",
       "      <td>48.8</td>\n",
       "      <td>0.000</td>\n",
       "      <td>220992.227</td>\n",
       "    </tr>\n",
       "    <tr>\n",
       "      <th>...</th>\n",
       "      <td>...</td>\n",
       "      <td>...</td>\n",
       "      <td>...</td>\n",
       "      <td>...</td>\n",
       "      <td>...</td>\n",
       "      <td>...</td>\n",
       "      <td>...</td>\n",
       "      <td>...</td>\n",
       "      <td>...</td>\n",
       "      <td>...</td>\n",
       "      <td>...</td>\n",
       "      <td>...</td>\n",
       "      <td>...</td>\n",
       "      <td>...</td>\n",
       "      <td>...</td>\n",
       "      <td>...</td>\n",
       "    </tr>\n",
       "    <tr>\n",
       "      <th>2018-12-31 19:00:00</th>\n",
       "      <td>2609.685890</td>\n",
       "      <td>2018-12-31</td>\n",
       "      <td>2018</td>\n",
       "      <td>12</td>\n",
       "      <td>31</td>\n",
       "      <td>19</td>\n",
       "      <td>Monday</td>\n",
       "      <td>winter</td>\n",
       "      <td>0</td>\n",
       "      <td>working</td>\n",
       "      <td>72290023188</td>\n",
       "      <td>0.0</td>\n",
       "      <td>10.0</td>\n",
       "      <td>50.0</td>\n",
       "      <td>1098.046</td>\n",
       "      <td>1034385.178</td>\n",
       "    </tr>\n",
       "    <tr>\n",
       "      <th>2018-12-31 20:00:00</th>\n",
       "      <td>2504.283858</td>\n",
       "      <td>2018-12-31</td>\n",
       "      <td>2018</td>\n",
       "      <td>12</td>\n",
       "      <td>31</td>\n",
       "      <td>20</td>\n",
       "      <td>Monday</td>\n",
       "      <td>winter</td>\n",
       "      <td>0</td>\n",
       "      <td>working</td>\n",
       "      <td>72290023188</td>\n",
       "      <td>0.0</td>\n",
       "      <td>10.0</td>\n",
       "      <td>50.0</td>\n",
       "      <td>1098.046</td>\n",
       "      <td>1034385.178</td>\n",
       "    </tr>\n",
       "    <tr>\n",
       "      <th>2018-12-31 21:00:00</th>\n",
       "      <td>2389.460971</td>\n",
       "      <td>2018-12-31</td>\n",
       "      <td>2018</td>\n",
       "      <td>12</td>\n",
       "      <td>31</td>\n",
       "      <td>21</td>\n",
       "      <td>Monday</td>\n",
       "      <td>winter</td>\n",
       "      <td>0</td>\n",
       "      <td>working</td>\n",
       "      <td>72290023188</td>\n",
       "      <td>0.0</td>\n",
       "      <td>10.0</td>\n",
       "      <td>51.0</td>\n",
       "      <td>1098.046</td>\n",
       "      <td>1034385.178</td>\n",
       "    </tr>\n",
       "    <tr>\n",
       "      <th>2018-12-31 22:00:00</th>\n",
       "      <td>2259.741640</td>\n",
       "      <td>2018-12-31</td>\n",
       "      <td>2018</td>\n",
       "      <td>12</td>\n",
       "      <td>31</td>\n",
       "      <td>22</td>\n",
       "      <td>Monday</td>\n",
       "      <td>winter</td>\n",
       "      <td>0</td>\n",
       "      <td>working</td>\n",
       "      <td>72290023188</td>\n",
       "      <td>0.0</td>\n",
       "      <td>10.0</td>\n",
       "      <td>51.0</td>\n",
       "      <td>1098.046</td>\n",
       "      <td>1034385.178</td>\n",
       "    </tr>\n",
       "    <tr>\n",
       "      <th>2018-12-31 23:00:00</th>\n",
       "      <td>2123.183153</td>\n",
       "      <td>2018-12-31</td>\n",
       "      <td>2018</td>\n",
       "      <td>12</td>\n",
       "      <td>31</td>\n",
       "      <td>23</td>\n",
       "      <td>Monday</td>\n",
       "      <td>winter</td>\n",
       "      <td>0</td>\n",
       "      <td>working</td>\n",
       "      <td>72290023188</td>\n",
       "      <td>0.0</td>\n",
       "      <td>10.0</td>\n",
       "      <td>50.0</td>\n",
       "      <td>1098.046</td>\n",
       "      <td>1034385.178</td>\n",
       "    </tr>\n",
       "  </tbody>\n",
       "</table>\n",
       "<p>43824 rows × 16 columns</p>\n",
       "</div>"
      ],
      "text/plain": [
       "                            SDGE       Date  year month day hour    weekday  \\\n",
       "Dates                                                                         \n",
       "2014-01-01 00:00:00  2096.000000 2014-01-01  2014     1   1    0  Wednesday   \n",
       "2014-01-01 01:00:00  1986.000000 2014-01-01  2014     1   1    1  Wednesday   \n",
       "2014-01-01 02:00:00  1936.000000 2014-01-01  2014     1   1    2  Wednesday   \n",
       "2014-01-01 03:00:00  1896.000000 2014-01-01  2014     1   1    3  Wednesday   \n",
       "2014-01-01 04:00:00  1899.000000 2014-01-01  2014     1   1    4  Wednesday   \n",
       "...                          ...        ...   ...   ...  ..  ...        ...   \n",
       "2018-12-31 19:00:00  2609.685890 2018-12-31  2018    12  31   19     Monday   \n",
       "2018-12-31 20:00:00  2504.283858 2018-12-31  2018    12  31   20     Monday   \n",
       "2018-12-31 21:00:00  2389.460971 2018-12-31  2018    12  31   21     Monday   \n",
       "2018-12-31 22:00:00  2259.741640 2018-12-31  2018    12  31   22     Monday   \n",
       "2018-12-31 23:00:00  2123.183153 2018-12-31  2018    12  31   23     Monday   \n",
       "\n",
       "                     season holiday  non_working      STATION  \\\n",
       "Dates                                                           \n",
       "2014-01-01 00:00:00  winter       1  non-working  72290023188   \n",
       "2014-01-01 01:00:00  winter       1  non-working  72290023188   \n",
       "2014-01-01 02:00:00  winter       1  non-working  72290023188   \n",
       "2014-01-01 03:00:00  winter       1  non-working  72290023188   \n",
       "2014-01-01 04:00:00  winter       1  non-working  72290023188   \n",
       "...                     ...     ...          ...          ...   \n",
       "2018-12-31 19:00:00  winter       0      working  72290023188   \n",
       "2018-12-31 20:00:00  winter       0      working  72290023188   \n",
       "2018-12-31 21:00:00  winter       0      working  72290023188   \n",
       "2018-12-31 22:00:00  winter       0      working  72290023188   \n",
       "2018-12-31 23:00:00  winter       0      working  72290023188   \n",
       "\n",
       "                     DailyCoolingDegreeDays  DailyHeatingDegreeDays  \\\n",
       "Dates                                                                 \n",
       "2014-01-01 00:00:00                     0.0                     7.0   \n",
       "2014-01-01 01:00:00                     0.0                     7.0   \n",
       "2014-01-01 02:00:00                     0.0                     7.0   \n",
       "2014-01-01 03:00:00                     0.0                     7.0   \n",
       "2014-01-01 04:00:00                     0.0                     7.0   \n",
       "...                                     ...                     ...   \n",
       "2018-12-31 19:00:00                     0.0                    10.0   \n",
       "2018-12-31 20:00:00                     0.0                    10.0   \n",
       "2018-12-31 21:00:00                     0.0                    10.0   \n",
       "2018-12-31 22:00:00                     0.0                    10.0   \n",
       "2018-12-31 23:00:00                     0.0                    10.0   \n",
       "\n",
       "                     HourlyDryBulbTemperature     AC_kW    cum_AC_kW  \n",
       "Dates                                                                 \n",
       "2014-01-01 00:00:00                      51.0     0.000   220992.227  \n",
       "2014-01-01 01:00:00                      51.5     0.000   220992.227  \n",
       "2014-01-01 02:00:00                      51.8     0.000   220992.227  \n",
       "2014-01-01 03:00:00                      50.0     0.000   220992.227  \n",
       "2014-01-01 04:00:00                      48.8     0.000   220992.227  \n",
       "...                                       ...       ...          ...  \n",
       "2018-12-31 19:00:00                      50.0  1098.046  1034385.178  \n",
       "2018-12-31 20:00:00                      50.0  1098.046  1034385.178  \n",
       "2018-12-31 21:00:00                      51.0  1098.046  1034385.178  \n",
       "2018-12-31 22:00:00                      51.0  1098.046  1034385.178  \n",
       "2018-12-31 23:00:00                      50.0  1098.046  1034385.178  \n",
       "\n",
       "[43824 rows x 16 columns]"
      ]
     },
     "execution_count": 6,
     "metadata": {},
     "output_type": "execute_result"
    }
   ],
   "source": [
    "# creating categorical columns for linear regression \n",
    "cat_cols = ['year', 'month', 'day', 'hour', 'weekday', 'season', 'holiday', 'non_working']\n",
    "\n",
    "for col in cat_cols:\n",
    "    sdge[col] = sdge[col].astype('category')\n",
    "sdge"
   ]
  },
  {
   "cell_type": "code",
   "execution_count": 7,
   "id": "7c1cd768-a280-4c35-8b52-7e115736a28d",
   "metadata": {},
   "outputs": [
    {
     "name": "stdout",
     "output_type": "stream",
     "text": [
      "<class 'pandas.core.frame.DataFrame'>\n",
      "DatetimeIndex: 43824 entries, 2014-01-01 00:00:00 to 2018-12-31 23:00:00\n",
      "Data columns (total 16 columns):\n",
      " #   Column                    Non-Null Count  Dtype         \n",
      "---  ------                    --------------  -----         \n",
      " 0   SDGE                      43824 non-null  float64       \n",
      " 1   Date                      43824 non-null  datetime64[ns]\n",
      " 2   year                      43824 non-null  category      \n",
      " 3   month                     43824 non-null  category      \n",
      " 4   day                       43824 non-null  category      \n",
      " 5   hour                      43824 non-null  category      \n",
      " 6   weekday                   43824 non-null  category      \n",
      " 7   season                    43824 non-null  category      \n",
      " 8   holiday                   43824 non-null  category      \n",
      " 9   non_working               43824 non-null  category      \n",
      " 10  STATION                   43824 non-null  int64         \n",
      " 11  DailyCoolingDegreeDays    43824 non-null  float64       \n",
      " 12  DailyHeatingDegreeDays    43824 non-null  float64       \n",
      " 13  HourlyDryBulbTemperature  43824 non-null  float64       \n",
      " 14  AC_kW                     43824 non-null  float64       \n",
      " 15  cum_AC_kW                 43824 non-null  float64       \n",
      "dtypes: category(8), datetime64[ns](1), float64(6), int64(1)\n",
      "memory usage: 3.3 MB\n"
     ]
    }
   ],
   "source": [
    "sdge.info()"
   ]
  },
  {
   "cell_type": "code",
   "execution_count": 8,
   "id": "5c33da39-14be-4df5-9f31-47f16559b2c1",
   "metadata": {},
   "outputs": [
    {
     "data": {
      "text/html": [
       "<div>\n",
       "<style scoped>\n",
       "    .dataframe tbody tr th:only-of-type {\n",
       "        vertical-align: middle;\n",
       "    }\n",
       "\n",
       "    .dataframe tbody tr th {\n",
       "        vertical-align: top;\n",
       "    }\n",
       "\n",
       "    .dataframe thead th {\n",
       "        text-align: right;\n",
       "    }\n",
       "</style>\n",
       "<table border=\"1\" class=\"dataframe\">\n",
       "  <thead>\n",
       "    <tr style=\"text-align: right;\">\n",
       "      <th></th>\n",
       "      <th>SDGE</th>\n",
       "      <th>Date</th>\n",
       "      <th>STATION</th>\n",
       "      <th>DailyCoolingDegreeDays</th>\n",
       "      <th>DailyHeatingDegreeDays</th>\n",
       "      <th>HourlyDryBulbTemperature</th>\n",
       "      <th>AC_kW</th>\n",
       "      <th>cum_AC_kW</th>\n",
       "      <th>year_2015</th>\n",
       "      <th>year_2016</th>\n",
       "      <th>...</th>\n",
       "      <th>hour_23</th>\n",
       "      <th>weekday_Monday</th>\n",
       "      <th>weekday_Saturday</th>\n",
       "      <th>weekday_Sunday</th>\n",
       "      <th>weekday_Thursday</th>\n",
       "      <th>weekday_Tuesday</th>\n",
       "      <th>weekday_Wednesday</th>\n",
       "      <th>season_winter</th>\n",
       "      <th>holiday_1</th>\n",
       "      <th>non_working_working</th>\n",
       "    </tr>\n",
       "    <tr>\n",
       "      <th>Dates</th>\n",
       "      <th></th>\n",
       "      <th></th>\n",
       "      <th></th>\n",
       "      <th></th>\n",
       "      <th></th>\n",
       "      <th></th>\n",
       "      <th></th>\n",
       "      <th></th>\n",
       "      <th></th>\n",
       "      <th></th>\n",
       "      <th></th>\n",
       "      <th></th>\n",
       "      <th></th>\n",
       "      <th></th>\n",
       "      <th></th>\n",
       "      <th></th>\n",
       "      <th></th>\n",
       "      <th></th>\n",
       "      <th></th>\n",
       "      <th></th>\n",
       "      <th></th>\n",
       "    </tr>\n",
       "  </thead>\n",
       "  <tbody>\n",
       "    <tr>\n",
       "      <th>2014-01-01 00:00:00</th>\n",
       "      <td>2096.0</td>\n",
       "      <td>2014-01-01</td>\n",
       "      <td>72290023188</td>\n",
       "      <td>0.0</td>\n",
       "      <td>7.0</td>\n",
       "      <td>51.0</td>\n",
       "      <td>0.0</td>\n",
       "      <td>220992.227</td>\n",
       "      <td>False</td>\n",
       "      <td>False</td>\n",
       "      <td>...</td>\n",
       "      <td>False</td>\n",
       "      <td>False</td>\n",
       "      <td>False</td>\n",
       "      <td>False</td>\n",
       "      <td>False</td>\n",
       "      <td>False</td>\n",
       "      <td>True</td>\n",
       "      <td>True</td>\n",
       "      <td>True</td>\n",
       "      <td>False</td>\n",
       "    </tr>\n",
       "    <tr>\n",
       "      <th>2014-01-01 01:00:00</th>\n",
       "      <td>1986.0</td>\n",
       "      <td>2014-01-01</td>\n",
       "      <td>72290023188</td>\n",
       "      <td>0.0</td>\n",
       "      <td>7.0</td>\n",
       "      <td>51.5</td>\n",
       "      <td>0.0</td>\n",
       "      <td>220992.227</td>\n",
       "      <td>False</td>\n",
       "      <td>False</td>\n",
       "      <td>...</td>\n",
       "      <td>False</td>\n",
       "      <td>False</td>\n",
       "      <td>False</td>\n",
       "      <td>False</td>\n",
       "      <td>False</td>\n",
       "      <td>False</td>\n",
       "      <td>True</td>\n",
       "      <td>True</td>\n",
       "      <td>True</td>\n",
       "      <td>False</td>\n",
       "    </tr>\n",
       "    <tr>\n",
       "      <th>2014-01-01 02:00:00</th>\n",
       "      <td>1936.0</td>\n",
       "      <td>2014-01-01</td>\n",
       "      <td>72290023188</td>\n",
       "      <td>0.0</td>\n",
       "      <td>7.0</td>\n",
       "      <td>51.8</td>\n",
       "      <td>0.0</td>\n",
       "      <td>220992.227</td>\n",
       "      <td>False</td>\n",
       "      <td>False</td>\n",
       "      <td>...</td>\n",
       "      <td>False</td>\n",
       "      <td>False</td>\n",
       "      <td>False</td>\n",
       "      <td>False</td>\n",
       "      <td>False</td>\n",
       "      <td>False</td>\n",
       "      <td>True</td>\n",
       "      <td>True</td>\n",
       "      <td>True</td>\n",
       "      <td>False</td>\n",
       "    </tr>\n",
       "  </tbody>\n",
       "</table>\n",
       "<p>3 rows × 85 columns</p>\n",
       "</div>"
      ],
      "text/plain": [
       "                       SDGE       Date      STATION  DailyCoolingDegreeDays  \\\n",
       "Dates                                                                         \n",
       "2014-01-01 00:00:00  2096.0 2014-01-01  72290023188                     0.0   \n",
       "2014-01-01 01:00:00  1986.0 2014-01-01  72290023188                     0.0   \n",
       "2014-01-01 02:00:00  1936.0 2014-01-01  72290023188                     0.0   \n",
       "\n",
       "                     DailyHeatingDegreeDays  HourlyDryBulbTemperature  AC_kW  \\\n",
       "Dates                                                                          \n",
       "2014-01-01 00:00:00                     7.0                      51.0    0.0   \n",
       "2014-01-01 01:00:00                     7.0                      51.5    0.0   \n",
       "2014-01-01 02:00:00                     7.0                      51.8    0.0   \n",
       "\n",
       "                      cum_AC_kW  year_2015  year_2016  ...  hour_23  \\\n",
       "Dates                                                  ...            \n",
       "2014-01-01 00:00:00  220992.227      False      False  ...    False   \n",
       "2014-01-01 01:00:00  220992.227      False      False  ...    False   \n",
       "2014-01-01 02:00:00  220992.227      False      False  ...    False   \n",
       "\n",
       "                     weekday_Monday  weekday_Saturday  weekday_Sunday  \\\n",
       "Dates                                                                   \n",
       "2014-01-01 00:00:00           False             False           False   \n",
       "2014-01-01 01:00:00           False             False           False   \n",
       "2014-01-01 02:00:00           False             False           False   \n",
       "\n",
       "                     weekday_Thursday  weekday_Tuesday  weekday_Wednesday  \\\n",
       "Dates                                                                       \n",
       "2014-01-01 00:00:00             False            False               True   \n",
       "2014-01-01 01:00:00             False            False               True   \n",
       "2014-01-01 02:00:00             False            False               True   \n",
       "\n",
       "                     season_winter  holiday_1  non_working_working  \n",
       "Dates                                                               \n",
       "2014-01-01 00:00:00           True       True                False  \n",
       "2014-01-01 01:00:00           True       True                False  \n",
       "2014-01-01 02:00:00           True       True                False  \n",
       "\n",
       "[3 rows x 85 columns]"
      ]
     },
     "execution_count": 8,
     "metadata": {},
     "output_type": "execute_result"
    }
   ],
   "source": [
    "# Preparing dummy columns for use in sklearn's linear regression \n",
    "sdge_lin = pd.get_dummies(sdge, drop_first = True)\n",
    "sdge_lin.head(3)"
   ]
  },
  {
   "cell_type": "code",
   "execution_count": 9,
   "id": "56b54b17-88d8-40d0-a6f0-9381c11c7216",
   "metadata": {},
   "outputs": [
    {
     "data": {
      "text/plain": [
       "Index(['SDGE', 'Date', 'STATION', 'DailyCoolingDegreeDays',\n",
       "       'DailyHeatingDegreeDays', 'HourlyDryBulbTemperature', 'AC_kW',\n",
       "       'cum_AC_kW', 'year_2015', 'year_2016', 'year_2017', 'year_2018',\n",
       "       'month_2', 'month_3', 'month_4', 'month_5', 'month_6', 'month_7',\n",
       "       'month_8', 'month_9', 'month_10', 'month_11', 'month_12', 'day_2',\n",
       "       'day_3', 'day_4', 'day_5', 'day_6', 'day_7', 'day_8', 'day_9', 'day_10',\n",
       "       'day_11', 'day_12', 'day_13', 'day_14', 'day_15', 'day_16', 'day_17',\n",
       "       'day_18', 'day_19', 'day_20', 'day_21', 'day_22', 'day_23', 'day_24',\n",
       "       'day_25', 'day_26', 'day_27', 'day_28', 'day_29', 'day_30', 'day_31',\n",
       "       'hour_1', 'hour_2', 'hour_3', 'hour_4', 'hour_5', 'hour_6', 'hour_7',\n",
       "       'hour_8', 'hour_9', 'hour_10', 'hour_11', 'hour_12', 'hour_13',\n",
       "       'hour_14', 'hour_15', 'hour_16', 'hour_17', 'hour_18', 'hour_19',\n",
       "       'hour_20', 'hour_21', 'hour_22', 'hour_23', 'weekday_Monday',\n",
       "       'weekday_Saturday', 'weekday_Sunday', 'weekday_Thursday',\n",
       "       'weekday_Tuesday', 'weekday_Wednesday', 'season_winter', 'holiday_1',\n",
       "       'non_working_working'],\n",
       "      dtype='object')"
      ]
     },
     "execution_count": 9,
     "metadata": {},
     "output_type": "execute_result"
    }
   ],
   "source": [
    "sdge_lin.columns"
   ]
  },
  {
   "cell_type": "code",
   "execution_count": 10,
   "id": "c514fa71-ca4f-48af-9d5d-cba23dce083d",
   "metadata": {},
   "outputs": [],
   "source": [
    "# Keeping only the necessary columns; day columns were removed because there is 0 to none monthly seasonality in the data    \n",
    "sdge_lin.drop(['Date','STATION', 'AC_kW', 'DailyCoolingDegreeDays','DailyHeatingDegreeDays',           \n",
    "              'weekday_Monday', 'weekday_Saturday', 'weekday_Sunday', 'weekday_Thursday',\n",
    "              'weekday_Tuesday', 'weekday_Wednesday', 'holiday_1', 'day_2', 'day_3', 'day_4', 'day_5', 'day_6',\n",
    "               'day_7', 'day_8', 'day_9', 'day_10', 'day_11', 'day_12', 'day_13',\n",
    "               'day_14', 'day_15', 'day_16', 'day_17', 'day_18', 'day_19', 'day_20',\n",
    "               'day_21', 'day_22', 'day_23', 'day_24', 'day_25', 'day_26', 'day_27',\n",
    "               'day_28', 'day_29', 'day_30', 'day_31'], axis = 1, inplace = True)"
   ]
  },
  {
   "cell_type": "code",
   "execution_count": 11,
   "id": "136a1a76-b7e5-4fcb-ac5e-388bbcfb3cb1",
   "metadata": {
    "scrolled": true
   },
   "outputs": [
    {
     "data": {
      "text/plain": [
       "Index(['SDGE', 'HourlyDryBulbTemperature', 'cum_AC_kW', 'year_2015',\n",
       "       'year_2016', 'year_2017', 'year_2018', 'month_2', 'month_3', 'month_4',\n",
       "       'month_5', 'month_6', 'month_7', 'month_8', 'month_9', 'month_10',\n",
       "       'month_11', 'month_12', 'hour_1', 'hour_2', 'hour_3', 'hour_4',\n",
       "       'hour_5', 'hour_6', 'hour_7', 'hour_8', 'hour_9', 'hour_10', 'hour_11',\n",
       "       'hour_12', 'hour_13', 'hour_14', 'hour_15', 'hour_16', 'hour_17',\n",
       "       'hour_18', 'hour_19', 'hour_20', 'hour_21', 'hour_22', 'hour_23',\n",
       "       'season_winter', 'non_working_working'],\n",
       "      dtype='object')"
      ]
     },
     "execution_count": 11,
     "metadata": {},
     "output_type": "execute_result"
    }
   ],
   "source": [
    "sdge_lin.columns"
   ]
  },
  {
   "cell_type": "code",
   "execution_count": null,
   "id": "60c530e1-a064-45e0-9799-6cce4caf3ca6",
   "metadata": {},
   "outputs": [],
   "source": []
  },
  {
   "cell_type": "code",
   "execution_count": 12,
   "id": "588443f3-62a7-4ba0-85a0-d7591eb286cc",
   "metadata": {},
   "outputs": [],
   "source": [
    "# Creating the train and test data\n",
    "# A test_size og 0.15 gives us a training set of 4 years and 3 months and a test set of 9 months (the test set includes \n",
    "#...winter and summer seasons.\n",
    "\n",
    "cols_to_transform = ['HourlyDryBulbTemperature', 'cum_AC_kW'] # other columns are binary values\n",
    "X_train, X_test, y_train, y_test = train_test(sdge_lin, test_size = 0.15, scale = True, cols_to_transform=cols_to_transform)"
   ]
  },
  {
   "cell_type": "code",
   "execution_count": 13,
   "id": "7029df4b-50af-4e32-8a81-129c5765478a",
   "metadata": {},
   "outputs": [
    {
     "data": {
      "text/html": [
       "<div>\n",
       "<style scoped>\n",
       "    .dataframe tbody tr th:only-of-type {\n",
       "        vertical-align: middle;\n",
       "    }\n",
       "\n",
       "    .dataframe tbody tr th {\n",
       "        vertical-align: top;\n",
       "    }\n",
       "\n",
       "    .dataframe thead th {\n",
       "        text-align: right;\n",
       "    }\n",
       "</style>\n",
       "<table border=\"1\" class=\"dataframe\">\n",
       "  <thead>\n",
       "    <tr style=\"text-align: right;\">\n",
       "      <th></th>\n",
       "      <th>SDGE</th>\n",
       "      <th>HourlyDryBulbTemperature</th>\n",
       "      <th>cum_AC_kW</th>\n",
       "      <th>year_2015</th>\n",
       "      <th>year_2016</th>\n",
       "      <th>year_2017</th>\n",
       "      <th>year_2018</th>\n",
       "      <th>month_2</th>\n",
       "      <th>month_3</th>\n",
       "      <th>month_4</th>\n",
       "      <th>...</th>\n",
       "      <th>hour_16</th>\n",
       "      <th>hour_17</th>\n",
       "      <th>hour_18</th>\n",
       "      <th>hour_19</th>\n",
       "      <th>hour_20</th>\n",
       "      <th>hour_21</th>\n",
       "      <th>hour_22</th>\n",
       "      <th>hour_23</th>\n",
       "      <th>season_winter</th>\n",
       "      <th>non_working_working</th>\n",
       "    </tr>\n",
       "    <tr>\n",
       "      <th>Dates</th>\n",
       "      <th></th>\n",
       "      <th></th>\n",
       "      <th></th>\n",
       "      <th></th>\n",
       "      <th></th>\n",
       "      <th></th>\n",
       "      <th></th>\n",
       "      <th></th>\n",
       "      <th></th>\n",
       "      <th></th>\n",
       "      <th></th>\n",
       "      <th></th>\n",
       "      <th></th>\n",
       "      <th></th>\n",
       "      <th></th>\n",
       "      <th></th>\n",
       "      <th></th>\n",
       "      <th></th>\n",
       "      <th></th>\n",
       "      <th></th>\n",
       "      <th></th>\n",
       "    </tr>\n",
       "  </thead>\n",
       "  <tbody>\n",
       "    <tr>\n",
       "      <th>2014-01-01 00:00:00</th>\n",
       "      <td>2096.000000</td>\n",
       "      <td>51.0</td>\n",
       "      <td>220992.227</td>\n",
       "      <td>False</td>\n",
       "      <td>False</td>\n",
       "      <td>False</td>\n",
       "      <td>False</td>\n",
       "      <td>False</td>\n",
       "      <td>False</td>\n",
       "      <td>False</td>\n",
       "      <td>...</td>\n",
       "      <td>False</td>\n",
       "      <td>False</td>\n",
       "      <td>False</td>\n",
       "      <td>False</td>\n",
       "      <td>False</td>\n",
       "      <td>False</td>\n",
       "      <td>False</td>\n",
       "      <td>False</td>\n",
       "      <td>True</td>\n",
       "      <td>False</td>\n",
       "    </tr>\n",
       "    <tr>\n",
       "      <th>2014-01-01 01:00:00</th>\n",
       "      <td>1986.000000</td>\n",
       "      <td>51.5</td>\n",
       "      <td>220992.227</td>\n",
       "      <td>False</td>\n",
       "      <td>False</td>\n",
       "      <td>False</td>\n",
       "      <td>False</td>\n",
       "      <td>False</td>\n",
       "      <td>False</td>\n",
       "      <td>False</td>\n",
       "      <td>...</td>\n",
       "      <td>False</td>\n",
       "      <td>False</td>\n",
       "      <td>False</td>\n",
       "      <td>False</td>\n",
       "      <td>False</td>\n",
       "      <td>False</td>\n",
       "      <td>False</td>\n",
       "      <td>False</td>\n",
       "      <td>True</td>\n",
       "      <td>False</td>\n",
       "    </tr>\n",
       "    <tr>\n",
       "      <th>2014-01-01 02:00:00</th>\n",
       "      <td>1936.000000</td>\n",
       "      <td>51.8</td>\n",
       "      <td>220992.227</td>\n",
       "      <td>False</td>\n",
       "      <td>False</td>\n",
       "      <td>False</td>\n",
       "      <td>False</td>\n",
       "      <td>False</td>\n",
       "      <td>False</td>\n",
       "      <td>False</td>\n",
       "      <td>...</td>\n",
       "      <td>False</td>\n",
       "      <td>False</td>\n",
       "      <td>False</td>\n",
       "      <td>False</td>\n",
       "      <td>False</td>\n",
       "      <td>False</td>\n",
       "      <td>False</td>\n",
       "      <td>False</td>\n",
       "      <td>True</td>\n",
       "      <td>False</td>\n",
       "    </tr>\n",
       "    <tr>\n",
       "      <th>2014-01-01 03:00:00</th>\n",
       "      <td>1896.000000</td>\n",
       "      <td>50.0</td>\n",
       "      <td>220992.227</td>\n",
       "      <td>False</td>\n",
       "      <td>False</td>\n",
       "      <td>False</td>\n",
       "      <td>False</td>\n",
       "      <td>False</td>\n",
       "      <td>False</td>\n",
       "      <td>False</td>\n",
       "      <td>...</td>\n",
       "      <td>False</td>\n",
       "      <td>False</td>\n",
       "      <td>False</td>\n",
       "      <td>False</td>\n",
       "      <td>False</td>\n",
       "      <td>False</td>\n",
       "      <td>False</td>\n",
       "      <td>False</td>\n",
       "      <td>True</td>\n",
       "      <td>False</td>\n",
       "    </tr>\n",
       "    <tr>\n",
       "      <th>2014-01-01 04:00:00</th>\n",
       "      <td>1899.000000</td>\n",
       "      <td>48.8</td>\n",
       "      <td>220992.227</td>\n",
       "      <td>False</td>\n",
       "      <td>False</td>\n",
       "      <td>False</td>\n",
       "      <td>False</td>\n",
       "      <td>False</td>\n",
       "      <td>False</td>\n",
       "      <td>False</td>\n",
       "      <td>...</td>\n",
       "      <td>False</td>\n",
       "      <td>False</td>\n",
       "      <td>False</td>\n",
       "      <td>False</td>\n",
       "      <td>False</td>\n",
       "      <td>False</td>\n",
       "      <td>False</td>\n",
       "      <td>False</td>\n",
       "      <td>True</td>\n",
       "      <td>False</td>\n",
       "    </tr>\n",
       "    <tr>\n",
       "      <th>...</th>\n",
       "      <td>...</td>\n",
       "      <td>...</td>\n",
       "      <td>...</td>\n",
       "      <td>...</td>\n",
       "      <td>...</td>\n",
       "      <td>...</td>\n",
       "      <td>...</td>\n",
       "      <td>...</td>\n",
       "      <td>...</td>\n",
       "      <td>...</td>\n",
       "      <td>...</td>\n",
       "      <td>...</td>\n",
       "      <td>...</td>\n",
       "      <td>...</td>\n",
       "      <td>...</td>\n",
       "      <td>...</td>\n",
       "      <td>...</td>\n",
       "      <td>...</td>\n",
       "      <td>...</td>\n",
       "      <td>...</td>\n",
       "      <td>...</td>\n",
       "    </tr>\n",
       "    <tr>\n",
       "      <th>2018-12-31 19:00:00</th>\n",
       "      <td>2609.685890</td>\n",
       "      <td>50.0</td>\n",
       "      <td>1034385.178</td>\n",
       "      <td>False</td>\n",
       "      <td>False</td>\n",
       "      <td>False</td>\n",
       "      <td>True</td>\n",
       "      <td>False</td>\n",
       "      <td>False</td>\n",
       "      <td>False</td>\n",
       "      <td>...</td>\n",
       "      <td>False</td>\n",
       "      <td>False</td>\n",
       "      <td>False</td>\n",
       "      <td>True</td>\n",
       "      <td>False</td>\n",
       "      <td>False</td>\n",
       "      <td>False</td>\n",
       "      <td>False</td>\n",
       "      <td>True</td>\n",
       "      <td>True</td>\n",
       "    </tr>\n",
       "    <tr>\n",
       "      <th>2018-12-31 20:00:00</th>\n",
       "      <td>2504.283858</td>\n",
       "      <td>50.0</td>\n",
       "      <td>1034385.178</td>\n",
       "      <td>False</td>\n",
       "      <td>False</td>\n",
       "      <td>False</td>\n",
       "      <td>True</td>\n",
       "      <td>False</td>\n",
       "      <td>False</td>\n",
       "      <td>False</td>\n",
       "      <td>...</td>\n",
       "      <td>False</td>\n",
       "      <td>False</td>\n",
       "      <td>False</td>\n",
       "      <td>False</td>\n",
       "      <td>True</td>\n",
       "      <td>False</td>\n",
       "      <td>False</td>\n",
       "      <td>False</td>\n",
       "      <td>True</td>\n",
       "      <td>True</td>\n",
       "    </tr>\n",
       "    <tr>\n",
       "      <th>2018-12-31 21:00:00</th>\n",
       "      <td>2389.460971</td>\n",
       "      <td>51.0</td>\n",
       "      <td>1034385.178</td>\n",
       "      <td>False</td>\n",
       "      <td>False</td>\n",
       "      <td>False</td>\n",
       "      <td>True</td>\n",
       "      <td>False</td>\n",
       "      <td>False</td>\n",
       "      <td>False</td>\n",
       "      <td>...</td>\n",
       "      <td>False</td>\n",
       "      <td>False</td>\n",
       "      <td>False</td>\n",
       "      <td>False</td>\n",
       "      <td>False</td>\n",
       "      <td>True</td>\n",
       "      <td>False</td>\n",
       "      <td>False</td>\n",
       "      <td>True</td>\n",
       "      <td>True</td>\n",
       "    </tr>\n",
       "    <tr>\n",
       "      <th>2018-12-31 22:00:00</th>\n",
       "      <td>2259.741640</td>\n",
       "      <td>51.0</td>\n",
       "      <td>1034385.178</td>\n",
       "      <td>False</td>\n",
       "      <td>False</td>\n",
       "      <td>False</td>\n",
       "      <td>True</td>\n",
       "      <td>False</td>\n",
       "      <td>False</td>\n",
       "      <td>False</td>\n",
       "      <td>...</td>\n",
       "      <td>False</td>\n",
       "      <td>False</td>\n",
       "      <td>False</td>\n",
       "      <td>False</td>\n",
       "      <td>False</td>\n",
       "      <td>False</td>\n",
       "      <td>True</td>\n",
       "      <td>False</td>\n",
       "      <td>True</td>\n",
       "      <td>True</td>\n",
       "    </tr>\n",
       "    <tr>\n",
       "      <th>2018-12-31 23:00:00</th>\n",
       "      <td>2123.183153</td>\n",
       "      <td>50.0</td>\n",
       "      <td>1034385.178</td>\n",
       "      <td>False</td>\n",
       "      <td>False</td>\n",
       "      <td>False</td>\n",
       "      <td>True</td>\n",
       "      <td>False</td>\n",
       "      <td>False</td>\n",
       "      <td>False</td>\n",
       "      <td>...</td>\n",
       "      <td>False</td>\n",
       "      <td>False</td>\n",
       "      <td>False</td>\n",
       "      <td>False</td>\n",
       "      <td>False</td>\n",
       "      <td>False</td>\n",
       "      <td>False</td>\n",
       "      <td>True</td>\n",
       "      <td>True</td>\n",
       "      <td>True</td>\n",
       "    </tr>\n",
       "  </tbody>\n",
       "</table>\n",
       "<p>43824 rows × 43 columns</p>\n",
       "</div>"
      ],
      "text/plain": [
       "                            SDGE  HourlyDryBulbTemperature    cum_AC_kW  \\\n",
       "Dates                                                                     \n",
       "2014-01-01 00:00:00  2096.000000                      51.0   220992.227   \n",
       "2014-01-01 01:00:00  1986.000000                      51.5   220992.227   \n",
       "2014-01-01 02:00:00  1936.000000                      51.8   220992.227   \n",
       "2014-01-01 03:00:00  1896.000000                      50.0   220992.227   \n",
       "2014-01-01 04:00:00  1899.000000                      48.8   220992.227   \n",
       "...                          ...                       ...          ...   \n",
       "2018-12-31 19:00:00  2609.685890                      50.0  1034385.178   \n",
       "2018-12-31 20:00:00  2504.283858                      50.0  1034385.178   \n",
       "2018-12-31 21:00:00  2389.460971                      51.0  1034385.178   \n",
       "2018-12-31 22:00:00  2259.741640                      51.0  1034385.178   \n",
       "2018-12-31 23:00:00  2123.183153                      50.0  1034385.178   \n",
       "\n",
       "                     year_2015  year_2016  year_2017  year_2018  month_2  \\\n",
       "Dates                                                                      \n",
       "2014-01-01 00:00:00      False      False      False      False    False   \n",
       "2014-01-01 01:00:00      False      False      False      False    False   \n",
       "2014-01-01 02:00:00      False      False      False      False    False   \n",
       "2014-01-01 03:00:00      False      False      False      False    False   \n",
       "2014-01-01 04:00:00      False      False      False      False    False   \n",
       "...                        ...        ...        ...        ...      ...   \n",
       "2018-12-31 19:00:00      False      False      False       True    False   \n",
       "2018-12-31 20:00:00      False      False      False       True    False   \n",
       "2018-12-31 21:00:00      False      False      False       True    False   \n",
       "2018-12-31 22:00:00      False      False      False       True    False   \n",
       "2018-12-31 23:00:00      False      False      False       True    False   \n",
       "\n",
       "                     month_3  month_4  ...  hour_16  hour_17  hour_18  \\\n",
       "Dates                                  ...                              \n",
       "2014-01-01 00:00:00    False    False  ...    False    False    False   \n",
       "2014-01-01 01:00:00    False    False  ...    False    False    False   \n",
       "2014-01-01 02:00:00    False    False  ...    False    False    False   \n",
       "2014-01-01 03:00:00    False    False  ...    False    False    False   \n",
       "2014-01-01 04:00:00    False    False  ...    False    False    False   \n",
       "...                      ...      ...  ...      ...      ...      ...   \n",
       "2018-12-31 19:00:00    False    False  ...    False    False    False   \n",
       "2018-12-31 20:00:00    False    False  ...    False    False    False   \n",
       "2018-12-31 21:00:00    False    False  ...    False    False    False   \n",
       "2018-12-31 22:00:00    False    False  ...    False    False    False   \n",
       "2018-12-31 23:00:00    False    False  ...    False    False    False   \n",
       "\n",
       "                     hour_19  hour_20  hour_21  hour_22  hour_23  \\\n",
       "Dates                                                              \n",
       "2014-01-01 00:00:00    False    False    False    False    False   \n",
       "2014-01-01 01:00:00    False    False    False    False    False   \n",
       "2014-01-01 02:00:00    False    False    False    False    False   \n",
       "2014-01-01 03:00:00    False    False    False    False    False   \n",
       "2014-01-01 04:00:00    False    False    False    False    False   \n",
       "...                      ...      ...      ...      ...      ...   \n",
       "2018-12-31 19:00:00     True    False    False    False    False   \n",
       "2018-12-31 20:00:00    False     True    False    False    False   \n",
       "2018-12-31 21:00:00    False    False     True    False    False   \n",
       "2018-12-31 22:00:00    False    False    False     True    False   \n",
       "2018-12-31 23:00:00    False    False    False    False     True   \n",
       "\n",
       "                     season_winter  non_working_working  \n",
       "Dates                                                    \n",
       "2014-01-01 00:00:00           True                False  \n",
       "2014-01-01 01:00:00           True                False  \n",
       "2014-01-01 02:00:00           True                False  \n",
       "2014-01-01 03:00:00           True                False  \n",
       "2014-01-01 04:00:00           True                False  \n",
       "...                            ...                  ...  \n",
       "2018-12-31 19:00:00           True                 True  \n",
       "2018-12-31 20:00:00           True                 True  \n",
       "2018-12-31 21:00:00           True                 True  \n",
       "2018-12-31 22:00:00           True                 True  \n",
       "2018-12-31 23:00:00           True                 True  \n",
       "\n",
       "[43824 rows x 43 columns]"
      ]
     },
     "execution_count": 13,
     "metadata": {},
     "output_type": "execute_result"
    }
   ],
   "source": [
    "sdge_lin"
   ]
  },
  {
   "cell_type": "code",
   "execution_count": 14,
   "id": "4bdc353f-b856-4e23-896a-a6b86bd6bbb7",
   "metadata": {},
   "outputs": [
    {
     "data": {
      "text/plain": [
       "['HourlyDryBulbTemperature',\n",
       " 'cum_AC_kW',\n",
       " 'year_2015',\n",
       " 'year_2016',\n",
       " 'year_2017',\n",
       " 'year_2018',\n",
       " 'month_2',\n",
       " 'month_3',\n",
       " 'month_4',\n",
       " 'month_5',\n",
       " 'month_6',\n",
       " 'month_7',\n",
       " 'month_8',\n",
       " 'month_9',\n",
       " 'month_10',\n",
       " 'month_11',\n",
       " 'month_12',\n",
       " 'hour_1',\n",
       " 'hour_2',\n",
       " 'hour_3',\n",
       " 'hour_4',\n",
       " 'hour_5',\n",
       " 'hour_6',\n",
       " 'hour_7',\n",
       " 'hour_8',\n",
       " 'hour_9',\n",
       " 'hour_10',\n",
       " 'hour_11',\n",
       " 'hour_12',\n",
       " 'hour_13',\n",
       " 'hour_14',\n",
       " 'hour_15',\n",
       " 'hour_16',\n",
       " 'hour_17',\n",
       " 'hour_18',\n",
       " 'hour_19',\n",
       " 'hour_20',\n",
       " 'hour_21',\n",
       " 'hour_22',\n",
       " 'hour_23',\n",
       " 'season_winter',\n",
       " 'non_working_working']"
      ]
     },
     "execution_count": 14,
     "metadata": {},
     "output_type": "execute_result"
    }
   ],
   "source": [
    "X_train.columns.tolist()"
   ]
  },
  {
   "cell_type": "markdown",
   "id": "f3b6c1f4-af93-483c-8e7b-f2497a975c18",
   "metadata": {},
   "source": [
    "## Train"
   ]
  },
  {
   "cell_type": "code",
   "execution_count": 15,
   "id": "e6bfc9f7-cd3e-47ef-a0fa-877369aa1ccc",
   "metadata": {},
   "outputs": [],
   "source": [
    "X_train_tensor=pd2tensor(X_train)\n",
    "y_train_tensor=pd2tensor(y_train)\n",
    "time_train=time2int(X_train.index.values)\n",
    "\n",
    "X_test_tensor=pd2tensor(X_test)\n",
    "y_test_tensor=pd2tensor(y_test)\n",
    "time_test=time2int(X_test.index.values)"
   ]
  },
  {
   "cell_type": "code",
   "execution_count": 16,
   "id": "ba0dc140-56e9-4f3c-822e-2e8e5faa4d95",
   "metadata": {},
   "outputs": [
    {
     "data": {
      "text/plain": [
       "37250"
      ]
     },
     "execution_count": 16,
     "metadata": {},
     "output_type": "execute_result"
    }
   ],
   "source": [
    "len(X_train_tensor)"
   ]
  },
  {
   "cell_type": "code",
   "execution_count": 17,
   "id": "407c38a3-d736-4f4c-89e2-1d03c7fa01a1",
   "metadata": {},
   "outputs": [
    {
     "data": {
      "text/plain": [
       "tensor([[-1.9990, -1.4746,  0.0000,  ...,  0.0000,  1.0000,  0.0000],\n",
       "        [-1.9316, -1.4746,  0.0000,  ...,  0.0000,  1.0000,  0.0000],\n",
       "        [-1.8911, -1.4746,  0.0000,  ...,  0.0000,  1.0000,  0.0000],\n",
       "        ...,\n",
       "        [-0.7857,  1.7537,  0.0000,  ...,  1.0000,  1.0000,  0.0000],\n",
       "        [-0.7857,  1.7552,  0.0000,  ...,  0.0000,  1.0000,  1.0000],\n",
       "        [-0.7857,  1.7552,  0.0000,  ...,  0.0000,  1.0000,  1.0000]])"
      ]
     },
     "execution_count": 17,
     "metadata": {},
     "output_type": "execute_result"
    }
   ],
   "source": [
    "X_train_tensor"
   ]
  },
  {
   "cell_type": "code",
   "execution_count": 18,
   "id": "7ecaccd9-2e4c-43cd-b1e3-d0724270ed03",
   "metadata": {},
   "outputs": [
    {
     "data": {
      "text/plain": [
       "tensor(1486.2361)"
      ]
     },
     "execution_count": 18,
     "metadata": {},
     "output_type": "execute_result"
    }
   ],
   "source": [
    "min(y_test_tensor)"
   ]
  },
  {
   "cell_type": "code",
   "execution_count": 19,
   "id": "7b6d116a-cf39-4ed3-88bb-f227c0898437",
   "metadata": {},
   "outputs": [
    {
     "data": {
      "text/html": [
       "<iframe\n",
       "    scrolling=\"no\"\n",
       "    width=\"100%\"\n",
       "    height=\"545px\"\n",
       "    src=\"iframe_figures/figure_19.html\"\n",
       "    frameborder=\"0\"\n",
       "    allowfullscreen\n",
       "></iframe>\n"
      ]
     },
     "metadata": {},
     "output_type": "display_data"
    }
   ],
   "source": [
    "import plotly.express as px\n",
    "import pandas as pd\n",
    "\n",
    "\n",
    "fig = px.line( x=y_train.index, y=y_train, title='Time Series with Rangeslider')\n",
    "\n",
    "fig.update_xaxes(rangeslider_visible=True)\n",
    "fig.show()"
   ]
  },
  {
   "cell_type": "code",
   "execution_count": 20,
   "id": "d465e8db-2f1f-4c6b-aa65-0f7bac2e1c8e",
   "metadata": {
    "scrolled": true
   },
   "outputs": [],
   "source": [
    "batch_size = 16\n",
    "num_workers = 16\n",
    "\n",
    "## Train dataloader\n",
    "train_dataset = DS(X_train_tensor, y_train_tensor, time_train)\n",
    "train_dataloader = DataLoader(train_dataset, batch_size=batch_size, shuffle=True, drop_last=True) #  num_workers=num_workers,\n",
    "\n",
    "\n",
    "## Test dataloader\n",
    "test_dataset = DS(X_test_tensor, y_test_tensor, time_test)\n",
    "test_dataloader = DataLoader(test_dataset, batch_size=batch_size,  shuffle=False) # num_workers=num_workers,"
   ]
  },
  {
   "cell_type": "code",
   "execution_count": null,
   "id": "0586911e-fec6-470d-9e16-a7570b5f1dc5",
   "metadata": {},
   "outputs": [],
   "source": []
  },
  {
   "cell_type": "code",
   "execution_count": 22,
   "id": "b3a2f6cc-bcfb-4995-b6ef-05b664b432e0",
   "metadata": {
    "scrolled": true
   },
   "outputs": [
    {
     "name": "stdout",
     "output_type": "stream",
     "text": [
      "device: cpu\n"
     ]
    },
    {
     "name": "stderr",
     "output_type": "stream",
     "text": [
      "  0%|                                                    | 0/50 [00:00<?, ?it/s]"
     ]
    },
    {
     "name": "stdout",
     "output_type": "stream",
     "text": [
      "Running during epoch: 0, iteration: 723 of 2328 loss: 327778.312555"
     ]
    },
    {
     "name": "stderr",
     "output_type": "stream",
     "text": [
      "/Library/Frameworks/Python.framework/Versions/3.11/lib/python3.11/site-packages/torch/nn/modules/loss.py:536: UserWarning:\n",
      "\n",
      "Using a target size (torch.Size([16])) that is different to the input size (torch.Size([16, 1])). This will likely lead to incorrect results due to broadcasting. Please ensure they have the same size.\n",
      "\n"
     ]
    },
    {
     "name": "stdout",
     "output_type": "stream",
     "text": [
      "Running during epoch: 0, iteration: 1771 of 2328 loss: 240063.015625"
     ]
    },
    {
     "name": "stderr",
     "output_type": "stream",
     "text": [
      "/Library/Frameworks/Python.framework/Versions/3.11/lib/python3.11/site-packages/torch/nn/modules/loss.py:536: UserWarning:\n",
      "\n",
      "Using a target size (torch.Size([14])) that is different to the input size (torch.Size([14, 1])). This will likely lead to incorrect results due to broadcasting. Please ensure they have the same size.\n",
      "\n",
      "  2%|▉                                           | 1/50 [00:00<00:28,  1.75it/s]"
     ]
    },
    {
     "name": "stdout",
     "output_type": "stream",
     "text": [
      "Running during epoch: 0, iteration: 2327 of 2328 loss: 228309.4062555\n",
      "TRAIN RESULTS: Epoch: 0,loss: 721583.0323\n",
      "Time difference -0.4401988983154297\n",
      "\n",
      "TEST RESULTS: Epoch: 0,loss: 386087.2348\n",
      "min test_hist_loss 386087.2348\n",
      "Best models saved on epoch: 0, test_loss: 386087.2348\n",
      "Best models saved on epoch: 0, train_loss: 721583.0323\n",
      "Running during epoch: 1, iteration: 1981 of 2328 loss: 272618.5937555"
     ]
    },
    {
     "name": "stderr",
     "output_type": "stream",
     "text": [
      "  4%|█▊                                          | 2/50 [00:01<00:27,  1.76it/s]"
     ]
    },
    {
     "name": "stdout",
     "output_type": "stream",
     "text": [
      "Running during epoch: 1, iteration: 2327 of 2328 loss: 217180.2187555\n",
      "TRAIN RESULTS: Epoch: 1,loss: 277946.7081\n",
      "Time difference -0.013184070587158203\n",
      "\n",
      "TEST RESULTS: Epoch: 1,loss: 314088.2971\n",
      "min test_hist_loss 314088.2971\n",
      "Best models saved on epoch: 1, test_loss: 314088.2971\n",
      "Best models saved on epoch: 1, train_loss: 277946.7081\n",
      "Running during epoch: 2, iteration: 2218 of 2328 loss: 310758.5625755"
     ]
    },
    {
     "name": "stderr",
     "output_type": "stream",
     "text": [
      "  6%|██▋                                         | 3/50 [00:01<00:26,  1.79it/s]"
     ]
    },
    {
     "name": "stdout",
     "output_type": "stream",
     "text": [
      "Running during epoch: 2, iteration: 2327 of 2328 loss: 164685.8593755\n",
      "TRAIN RESULTS: Epoch: 2,loss: 241554.2345\n",
      "Time difference 0.4215209484100342\n",
      "\n",
      "TEST RESULTS: Epoch: 2,loss: 257742.42\n",
      "min test_hist_loss 257742.42\n",
      "Best models saved on epoch: 2, test_loss: 257742.42\n",
      "Best models saved on epoch: 2, train_loss: 241554.2345\n",
      "Running during epoch: 3, iteration: 2327 of 2328 loss: 102934.0625555\n",
      "TRAIN RESULTS: Epoch: 3,loss: 231591.1893\n",
      "Time difference -0.12414312362670898\n"
     ]
    },
    {
     "name": "stderr",
     "output_type": "stream",
     "text": [
      "  8%|███▌                                        | 4/50 [00:02<00:25,  1.81it/s]"
     ]
    },
    {
     "name": "stdout",
     "output_type": "stream",
     "text": [
      "\n",
      "TEST RESULTS: Epoch: 3,loss: 237439.5695\n",
      "min test_hist_loss 237439.5695\n",
      "Best models saved on epoch: 3, test_loss: 237439.5695\n",
      "Best models saved on epoch: 3, train_loss: 231591.1893\n",
      "Running during epoch: 4, iteration: 1887 of 2328 loss: 528838.3125555"
     ]
    },
    {
     "name": "stderr",
     "output_type": "stream",
     "text": [
      " 10%|████▍                                       | 5/50 [00:02<00:24,  1.83it/s]"
     ]
    },
    {
     "name": "stdout",
     "output_type": "stream",
     "text": [
      "Running during epoch: 4, iteration: 2327 of 2328 loss: 307259.1875255\n",
      "TRAIN RESULTS: Epoch: 4,loss: 229582.1591\n",
      "Time difference 0.33133912086486816\n",
      "\n",
      "TEST RESULTS: Epoch: 4,loss: 231454.2688\n",
      "min test_hist_loss 231454.2688\n",
      "Best models saved on epoch: 4, test_loss: 231454.2688\n",
      "Best models saved on epoch: 4, train_loss: 229582.1591\n",
      "Running during epoch: 5, iteration: 2208 of 2328 loss: 321309.3437555"
     ]
    },
    {
     "name": "stderr",
     "output_type": "stream",
     "text": [
      " 12%|█████▎                                      | 6/50 [00:03<00:23,  1.84it/s]"
     ]
    },
    {
     "name": "stdout",
     "output_type": "stream",
     "text": [
      "Running during epoch: 5, iteration: 2327 of 2328 loss: 73558.42968755\n",
      "TRAIN RESULTS: Epoch: 5,loss: 229195.2205\n",
      "Time difference -0.20590901374816895\n",
      "\n",
      "TEST RESULTS: Epoch: 5,loss: 231554.9043\n",
      "min test_hist_loss 231454.2688\n",
      "Best models saved on epoch: 5, train_loss: 229195.2205\n",
      "Running during epoch: 6, iteration: 1590 of 2328 loss: 159466.8437575"
     ]
    },
    {
     "name": "stderr",
     "output_type": "stream",
     "text": [
      " 14%|██████▏                                     | 7/50 [00:03<00:23,  1.85it/s]"
     ]
    },
    {
     "name": "stdout",
     "output_type": "stream",
     "text": [
      "Running during epoch: 6, iteration: 2327 of 2328 loss: 90723.46875375\n",
      "TRAIN RESULTS: Epoch: 6,loss: 229106.7952\n",
      "Time difference 0.25658702850341797\n",
      "\n",
      "TEST RESULTS: Epoch: 6,loss: 228242.9995\n",
      "min test_hist_loss 228242.9995\n",
      "Best models saved on epoch: 6, test_loss: 228242.9995\n",
      "Best models saved on epoch: 6, train_loss: 229106.7952\n",
      "Running during epoch: 7, iteration: 1906 of 2328 loss: 565833.3752555"
     ]
    },
    {
     "name": "stderr",
     "output_type": "stream",
     "text": [
      " 16%|███████                                     | 8/50 [00:04<00:22,  1.85it/s]"
     ]
    },
    {
     "name": "stdout",
     "output_type": "stream",
     "text": [
      "Running during epoch: 7, iteration: 2327 of 2328 loss: 293667.3125255\n",
      "TRAIN RESULTS: Epoch: 7,loss: 229031.9828\n",
      "Time difference -0.2779362201690674\n",
      "\n",
      "TEST RESULTS: Epoch: 7,loss: 231592.8867\n",
      "min test_hist_loss 228242.9995\n",
      "Best models saved on epoch: 7, train_loss: 229031.9828\n",
      "Running during epoch: 8, iteration: 2222 of 2328 loss: 231208.6562555"
     ]
    },
    {
     "name": "stderr",
     "output_type": "stream",
     "text": [
      " 18%|███████▉                                    | 9/50 [00:04<00:22,  1.85it/s]"
     ]
    },
    {
     "name": "stdout",
     "output_type": "stream",
     "text": [
      "Running during epoch: 8, iteration: 2327 of 2328 loss: 277295.1252555\n",
      "TRAIN RESULTS: Epoch: 8,loss: 228913.7382\n",
      "Time difference 0.1844789981842041\n",
      "\n",
      "TEST RESULTS: Epoch: 8,loss: 231478.5177\n",
      "min test_hist_loss 228242.9995\n",
      "Best models saved on epoch: 8, train_loss: 228913.7382\n",
      "Running during epoch: 9, iteration: 1582 of 2328 loss: 202489.2575755"
     ]
    },
    {
     "name": "stderr",
     "output_type": "stream",
     "text": [
      " 20%|████████▌                                  | 10/50 [00:05<00:21,  1.86it/s]"
     ]
    },
    {
     "name": "stdout",
     "output_type": "stream",
     "text": [
      "Running during epoch: 9, iteration: 2327 of 2328 loss: 286275.2537555\n",
      "TRAIN RESULTS: Epoch: 9,loss: 229035.2345\n",
      "Time difference -0.3575019836425781\n",
      "\n",
      "TEST RESULTS: Epoch: 9,loss: 232420.5212\n",
      "min test_hist_loss 228242.9995\n",
      "Running during epoch: 10, iteration: 1909 of 2328 loss: 307879.2812555"
     ]
    },
    {
     "name": "stderr",
     "output_type": "stream",
     "text": [
      " 22%|█████████▍                                 | 11/50 [00:05<00:20,  1.86it/s]"
     ]
    },
    {
     "name": "stdout",
     "output_type": "stream",
     "text": [
      "Running during epoch: 10, iteration: 2327 of 2328 loss: 237206.8758755\n",
      "TRAIN RESULTS: Epoch: 10,loss: 228992.2474\n",
      "Time difference 0.10726499557495117\n",
      "\n",
      "TEST RESULTS: Epoch: 10,loss: 231262.0563\n",
      "min test_hist_loss 228242.9995\n",
      "Running during epoch: 11, iteration: 2251 of 2328 loss: 588252.7562555"
     ]
    },
    {
     "name": "stderr",
     "output_type": "stream",
     "text": [
      " 24%|██████████▎                                | 12/50 [00:06<00:20,  1.86it/s]"
     ]
    },
    {
     "name": "stdout",
     "output_type": "stream",
     "text": [
      "Running during epoch: 11, iteration: 2327 of 2328 loss: 349315.1562555\n",
      "TRAIN RESULTS: Epoch: 11,loss: 229041.6418\n",
      "Time difference -0.4276118278503418\n",
      "\n",
      "TEST RESULTS: Epoch: 11,loss: 232222.3248\n",
      "min test_hist_loss 228242.9995\n",
      "Running during epoch: 12, iteration: 1629 of 2328 loss: 67026.93757555"
     ]
    },
    {
     "name": "stderr",
     "output_type": "stream",
     "text": [
      " 26%|███████████▏                               | 13/50 [00:07<00:19,  1.87it/s]"
     ]
    },
    {
     "name": "stdout",
     "output_type": "stream",
     "text": [
      "Running during epoch: 12, iteration: 2327 of 2328 loss: 165395.1875555\n",
      "TRAIN RESULTS: Epoch: 12,loss: 228977.4844\n",
      "Time difference 0.03912806510925293\n",
      "\n",
      "TEST RESULTS: Epoch: 12,loss: 233090.6274\n",
      "min test_hist_loss 228242.9995\n",
      "Running during epoch: 13, iteration: 1961 of 2328 loss: 331091.0218755"
     ]
    },
    {
     "name": "stderr",
     "output_type": "stream",
     "text": [
      " 28%|████████████                               | 14/50 [00:07<00:19,  1.86it/s]"
     ]
    },
    {
     "name": "stdout",
     "output_type": "stream",
     "text": [
      "Running during epoch: 13, iteration: 2327 of 2328 loss: 139866.0781255\n",
      "TRAIN RESULTS: Epoch: 13,loss: 229010.3048\n",
      "Time difference -0.49485301971435547\n",
      "\n",
      "TEST RESULTS: Epoch: 13,loss: 232590.7938\n",
      "min test_hist_loss 228242.9995\n",
      "Running during epoch: 14, iteration: 2249 of 2328 loss: 391660.6875555"
     ]
    },
    {
     "name": "stderr",
     "output_type": "stream",
     "text": [
      " 30%|████████████▉                              | 15/50 [00:08<00:18,  1.86it/s]"
     ]
    },
    {
     "name": "stdout",
     "output_type": "stream",
     "text": [
      "Running during epoch: 14, iteration: 2327 of 2328 loss: 293802.8437555\n",
      "TRAIN RESULTS: Epoch: 14,loss: 229092.015\n",
      "Time difference -0.032569169998168945\n",
      "\n",
      "TEST RESULTS: Epoch: 14,loss: 234907.0208\n",
      "min test_hist_loss 228242.9995\n",
      "Running during epoch: 15, iteration: 1621 of 2328 loss: 124559.5512555"
     ]
    },
    {
     "name": "stderr",
     "output_type": "stream",
     "text": [
      " 32%|█████████████▊                             | 16/50 [00:08<00:18,  1.86it/s]"
     ]
    },
    {
     "name": "stdout",
     "output_type": "stream",
     "text": [
      "Running during epoch: 15, iteration: 2327 of 2328 loss: 299886.8125525\n",
      "TRAIN RESULTS: Epoch: 15,loss: 228953.3948\n",
      "Time difference 0.4236469268798828\n",
      "\n",
      "TEST RESULTS: Epoch: 15,loss: 233187.5883\n",
      "min test_hist_loss 228242.9995\n",
      "Running during epoch: 16, iteration: 1942 of 2328 loss: 97886.14843755"
     ]
    },
    {
     "name": "stderr",
     "output_type": "stream",
     "text": [
      " 34%|██████████████▌                            | 17/50 [00:09<00:17,  1.86it/s]"
     ]
    },
    {
     "name": "stdout",
     "output_type": "stream",
     "text": [
      "Running during epoch: 16, iteration: 2327 of 2328 loss: 338034.1252575\n",
      "TRAIN RESULTS: Epoch: 16,loss: 229050.2216\n",
      "Time difference -0.11303591728210449\n",
      "\n",
      "TEST RESULTS: Epoch: 16,loss: 232499.4591\n",
      "min test_hist_loss 228242.9995\n",
      "Running during epoch: 17, iteration: 2279 of 2328 loss: 174197.8437555"
     ]
    },
    {
     "name": "stderr",
     "output_type": "stream",
     "text": [
      " 36%|███████████████▍                           | 18/50 [00:09<00:17,  1.86it/s]"
     ]
    },
    {
     "name": "stdout",
     "output_type": "stream",
     "text": [
      "Running during epoch: 17, iteration: 2327 of 2328 loss: 186968.968755\n",
      "TRAIN RESULTS: Epoch: 17,loss: 229049.9228\n",
      "Time difference 0.35091495513916016\n",
      "\n",
      "TEST RESULTS: Epoch: 17,loss: 231902.409\n",
      "min test_hist_loss 228242.9995\n",
      "Running during epoch: 18, iteration: 1634 of 2328 loss: 241517.6255755"
     ]
    },
    {
     "name": "stderr",
     "output_type": "stream",
     "text": [
      " 38%|████████████████▎                          | 19/50 [00:10<00:16,  1.86it/s]"
     ]
    },
    {
     "name": "stdout",
     "output_type": "stream",
     "text": [
      "Running during epoch: 18, iteration: 2327 of 2328 loss: 198927.0937555\n",
      "TRAIN RESULTS: Epoch: 18,loss: 228974.0182\n",
      "Time difference -0.18391084671020508\n",
      "\n",
      "TEST RESULTS: Epoch: 18,loss: 230303.6087\n",
      "min test_hist_loss 228242.9995\n",
      "Running during epoch: 19, iteration: 1915 of 2328 loss: 276842.0625555"
     ]
    },
    {
     "name": "stderr",
     "output_type": "stream",
     "text": [
      " 40%|█████████████████▏                         | 20/50 [00:10<00:16,  1.85it/s]"
     ]
    },
    {
     "name": "stdout",
     "output_type": "stream",
     "text": [
      "Running during epoch: 19, iteration: 2327 of 2328 loss: 208632.7656255\n",
      "TRAIN RESULTS: Epoch: 19,loss: 229095.4019\n",
      "Time difference 0.2738780975341797\n",
      "\n",
      "TEST RESULTS: Epoch: 19,loss: 230453.3275\n",
      "min test_hist_loss 228242.9995\n",
      "Running during epoch: 20, iteration: 2222 of 2328 loss: 314223.7187555"
     ]
    },
    {
     "name": "stderr",
     "output_type": "stream",
     "text": [
      " 42%|██████████████████                         | 21/50 [00:11<00:15,  1.85it/s]"
     ]
    },
    {
     "name": "stdout",
     "output_type": "stream",
     "text": [
      "Running during epoch: 20, iteration: 2327 of 2328 loss: 270962.7812555\n",
      "TRAIN RESULTS: Epoch: 20,loss: 229066.1143\n",
      "Time difference -0.26874804496765137\n",
      "\n",
      "TEST RESULTS: Epoch: 20,loss: 234617.8384\n",
      "min test_hist_loss 228242.9995\n",
      "Running during epoch: 21, iteration: 1602 of 2328 loss: 246108.0156255"
     ]
    },
    {
     "name": "stderr",
     "output_type": "stream",
     "text": [
      " 44%|██████████████████▉                        | 22/50 [00:11<00:15,  1.86it/s]"
     ]
    },
    {
     "name": "stdout",
     "output_type": "stream",
     "text": [
      "Running during epoch: 21, iteration: 2327 of 2328 loss: 100975.9609375\n",
      "TRAIN RESULTS: Epoch: 21,loss: 228933.3728\n",
      "Time difference 0.1901559829711914\n",
      "\n",
      "TEST RESULTS: Epoch: 21,loss: 231559.7164\n",
      "min test_hist_loss 228242.9995\n",
      "Running during epoch: 22, iteration: 1919 of 2328 loss: 269285.9062555"
     ]
    },
    {
     "name": "stderr",
     "output_type": "stream",
     "text": [
      " 46%|███████████████████▊                       | 23/50 [00:12<00:14,  1.86it/s]"
     ]
    },
    {
     "name": "stdout",
     "output_type": "stream",
     "text": [
      "Running during epoch: 22, iteration: 2327 of 2328 loss: 138083.8437555\n",
      "TRAIN RESULTS: Epoch: 22,loss: 229011.219\n",
      "Time difference -0.34331488609313965\n",
      "\n",
      "TEST RESULTS: Epoch: 22,loss: 232738.3677\n",
      "min test_hist_loss 228242.9995\n",
      "Running during epoch: 23, iteration: 2228 of 2328 loss: 254794.0625555"
     ]
    },
    {
     "name": "stderr",
     "output_type": "stream",
     "text": [
      " 48%|████████████████████▋                      | 24/50 [00:12<00:14,  1.86it/s]"
     ]
    },
    {
     "name": "stdout",
     "output_type": "stream",
     "text": [
      "Running during epoch: 23, iteration: 2327 of 2328 loss: 194600.4687555\n",
      "TRAIN RESULTS: Epoch: 23,loss: 228973.9863\n",
      "Time difference 0.11660003662109375\n",
      "\n",
      "TEST RESULTS: Epoch: 23,loss: 233299.6377\n",
      "min test_hist_loss 228242.9995\n",
      "Running during epoch: 24, iteration: 1593 of 2328 loss: 199878.0468755"
     ]
    },
    {
     "name": "stderr",
     "output_type": "stream",
     "text": [
      " 50%|█████████████████████▌                     | 25/50 [00:13<00:13,  1.86it/s]"
     ]
    },
    {
     "name": "stdout",
     "output_type": "stream",
     "text": [
      "Running during epoch: 24, iteration: 2327 of 2328 loss: 114281.2187555\n",
      "TRAIN RESULTS: Epoch: 24,loss: 228993.6811\n",
      "Time difference -0.42170286178588867\n",
      "\n",
      "TEST RESULTS: Epoch: 24,loss: 230719.796\n",
      "min test_hist_loss 228242.9995\n",
      "Running during epoch: 25, iteration: 1911 of 2328 loss: 91620.26562555"
     ]
    },
    {
     "name": "stderr",
     "output_type": "stream",
     "text": [
      " 52%|██████████████████████▎                    | 26/50 [00:14<00:12,  1.86it/s]"
     ]
    },
    {
     "name": "stdout",
     "output_type": "stream",
     "text": [
      "Running during epoch: 25, iteration: 2327 of 2328 loss: 230284.8752555\n",
      "TRAIN RESULTS: Epoch: 25,loss: 228936.1047\n",
      "Time difference 0.041172027587890625\n",
      "\n",
      "TEST RESULTS: Epoch: 25,loss: 231955.0373\n",
      "min test_hist_loss 228242.9995\n",
      "Running during epoch: 26, iteration: 2244 of 2328 loss: 305615.0718755"
     ]
    },
    {
     "name": "stderr",
     "output_type": "stream",
     "text": [
      " 54%|███████████████████████▏                   | 27/50 [00:14<00:12,  1.86it/s]"
     ]
    },
    {
     "name": "stdout",
     "output_type": "stream",
     "text": [
      "Running during epoch: 26, iteration: 2327 of 2328 loss: 140843.0781255\n",
      "TRAIN RESULTS: Epoch: 26,loss: 228896.2459\n",
      "Time difference -0.49755287170410156\n",
      "\n",
      "TEST RESULTS: Epoch: 26,loss: 232366.5787\n",
      "min test_hist_loss 228242.9995\n",
      "Best models saved on epoch: 26, train_loss: 228896.2459\n",
      "Running during epoch: 27, iteration: 1621 of 2328 loss: 138999.3125255"
     ]
    },
    {
     "name": "stderr",
     "output_type": "stream",
     "text": [
      " 56%|████████████████████████                   | 28/50 [00:15<00:11,  1.87it/s]"
     ]
    },
    {
     "name": "stdout",
     "output_type": "stream",
     "text": [
      "Running during epoch: 27, iteration: 2327 of 2328 loss: 434539.3755555\n",
      "TRAIN RESULTS: Epoch: 27,loss: 228897.7132\n",
      "Time difference -0.03241300582885742\n",
      "\n",
      "TEST RESULTS: Epoch: 27,loss: 230796.2158\n",
      "min test_hist_loss 228242.9995\n",
      "Running during epoch: 28, iteration: 1964 of 2328 loss: 193231.0781255"
     ]
    },
    {
     "name": "stderr",
     "output_type": "stream",
     "text": [
      " 58%|████████████████████████▉                  | 29/50 [00:15<00:11,  1.87it/s]"
     ]
    },
    {
     "name": "stdout",
     "output_type": "stream",
     "text": [
      "Running during epoch: 28, iteration: 2327 of 2328 loss: 315780.0218755\n",
      "TRAIN RESULTS: Epoch: 28,loss: 228990.0983\n",
      "Time difference 0.43398404121398926\n",
      "\n",
      "TEST RESULTS: Epoch: 28,loss: 229614.3296\n",
      "min test_hist_loss 228242.9995\n",
      "Running during epoch: 29, iteration: 2294 of 2328 loss: 157561.8281255"
     ]
    },
    {
     "name": "stderr",
     "output_type": "stream",
     "text": [
      " 60%|█████████████████████████▊                 | 30/50 [00:16<00:10,  1.87it/s]"
     ]
    },
    {
     "name": "stdout",
     "output_type": "stream",
     "text": [
      "Running during epoch: 29, iteration: 2327 of 2328 loss: 229779.0468755\n",
      "TRAIN RESULTS: Epoch: 29,loss: 228986.4292\n",
      "Time difference -0.1004478931427002\n",
      "\n",
      "TEST RESULTS: Epoch: 29,loss: 231055.8265\n",
      "min test_hist_loss 228242.9995\n",
      "Running during epoch: 30, iteration: 1679 of 2328 loss: 168185.6255255"
     ]
    },
    {
     "name": "stderr",
     "output_type": "stream",
     "text": [
      " 62%|██████████████████████████▋                | 31/50 [00:16<00:10,  1.87it/s]"
     ]
    },
    {
     "name": "stdout",
     "output_type": "stream",
     "text": [
      "Running during epoch: 30, iteration: 2327 of 2328 loss: 300820.2187555\n",
      "TRAIN RESULTS: Epoch: 30,loss: 228978.7084\n",
      "Time difference 0.3642239570617676\n",
      "\n",
      "TEST RESULTS: Epoch: 30,loss: 230465.9669\n",
      "min test_hist_loss 228242.9995\n",
      "Running during epoch: 31, iteration: 2007 of 2328 loss: 231842.2187555"
     ]
    },
    {
     "name": "stderr",
     "output_type": "stream",
     "text": [
      " 64%|███████████████████████████▌               | 32/50 [00:17<00:09,  1.87it/s]"
     ]
    },
    {
     "name": "stdout",
     "output_type": "stream",
     "text": [
      "Running during epoch: 31, iteration: 2327 of 2328 loss: 272254.8437555\n",
      "TRAIN RESULTS: Epoch: 31,loss: 228955.2471\n",
      "Time difference -0.16963410377502441\n",
      "\n",
      "TEST RESULTS: Epoch: 31,loss: 231867.5663\n",
      "min test_hist_loss 228242.9995\n",
      "Running during epoch: 32, iteration: 2327 of 2328 loss: 245591.6253755\n",
      "TRAIN RESULTS: Epoch: 32,loss: 228901.5149\n",
      "Time difference 0.29465508460998535\n"
     ]
    },
    {
     "name": "stderr",
     "output_type": "stream",
     "text": [
      " 66%|████████████████████████████▍              | 33/50 [00:17<00:09,  1.87it/s]"
     ]
    },
    {
     "name": "stdout",
     "output_type": "stream",
     "text": [
      "\n",
      "TEST RESULTS: Epoch: 32,loss: 232923.2938\n",
      "min test_hist_loss 228242.9995\n",
      "Running during epoch: 33, iteration: 1885 of 2328 loss: 206978.2343755"
     ]
    },
    {
     "name": "stderr",
     "output_type": "stream",
     "text": [
      " 68%|█████████████████████████████▏             | 34/50 [00:18<00:08,  1.86it/s]"
     ]
    },
    {
     "name": "stdout",
     "output_type": "stream",
     "text": [
      "Running during epoch: 33, iteration: 2327 of 2328 loss: 134450.2812555\n",
      "TRAIN RESULTS: Epoch: 33,loss: 228994.434\n",
      "Time difference -0.2424178123474121\n",
      "\n",
      "TEST RESULTS: Epoch: 33,loss: 230684.5153\n",
      "min test_hist_loss 228242.9995\n",
      "Running during epoch: 34, iteration: 2194 of 2328 loss: 272121.9062525"
     ]
    },
    {
     "name": "stderr",
     "output_type": "stream",
     "text": [
      " 70%|██████████████████████████████             | 35/50 [00:18<00:08,  1.86it/s]"
     ]
    },
    {
     "name": "stdout",
     "output_type": "stream",
     "text": [
      "Running during epoch: 34, iteration: 2327 of 2328 loss: 280891.8125125\n",
      "TRAIN RESULTS: Epoch: 34,loss: 228948.346\n",
      "Time difference 0.21979117393493652\n",
      "\n",
      "TEST RESULTS: Epoch: 34,loss: 232881.777\n",
      "min test_hist_loss 228242.9995\n",
      "Running during epoch: 35, iteration: 1566 of 2328 loss: 217290.5468755"
     ]
    },
    {
     "name": "stderr",
     "output_type": "stream",
     "text": [
      " 72%|██████████████████████████████▉            | 36/50 [00:19<00:07,  1.86it/s]"
     ]
    },
    {
     "name": "stdout",
     "output_type": "stream",
     "text": [
      "Running during epoch: 35, iteration: 2327 of 2328 loss: 96137.92187555\n",
      "TRAIN RESULTS: Epoch: 35,loss: 228988.8762\n",
      "Time difference -0.320720911026001\n",
      "\n",
      "TEST RESULTS: Epoch: 35,loss: 235517.7204\n",
      "min test_hist_loss 228242.9995\n",
      "Running during epoch: 36, iteration: 1883 of 2328 loss: 408072.7812555"
     ]
    },
    {
     "name": "stderr",
     "output_type": "stream",
     "text": [
      " 74%|███████████████████████████████▊           | 37/50 [00:19<00:06,  1.86it/s]"
     ]
    },
    {
     "name": "stdout",
     "output_type": "stream",
     "text": [
      "Running during epoch: 36, iteration: 2327 of 2328 loss: 298461.1875755\n",
      "TRAIN RESULTS: Epoch: 36,loss: 228817.295\n",
      "Time difference 0.14404606819152832\n",
      "\n",
      "TEST RESULTS: Epoch: 36,loss: 233591.4268\n",
      "min test_hist_loss 228242.9995\n",
      "Best models saved on epoch: 36, train_loss: 228817.295\n",
      "Running during epoch: 37, iteration: 2179 of 2328 loss: 99937.21875255"
     ]
    },
    {
     "name": "stderr",
     "output_type": "stream",
     "text": [
      " 76%|████████████████████████████████▋          | 38/50 [00:20<00:06,  1.85it/s]"
     ]
    },
    {
     "name": "stdout",
     "output_type": "stream",
     "text": [
      "Running during epoch: 37, iteration: 2327 of 2328 loss: 286341.9375555\n",
      "TRAIN RESULTS: Epoch: 37,loss: 228855.437\n",
      "Time difference -0.3939340114593506\n",
      "\n",
      "TEST RESULTS: Epoch: 37,loss: 230931.8023\n",
      "min test_hist_loss 228242.9995\n",
      "Running during epoch: 38, iteration: 2327 of 2328 loss: 196737.8125755\n",
      "TRAIN RESULTS: Epoch: 38,loss: 228772.9828\n",
      "Time difference 0.06274104118347168\n"
     ]
    },
    {
     "name": "stderr",
     "output_type": "stream",
     "text": [
      " 78%|█████████████████████████████████▌         | 39/50 [00:21<00:05,  1.86it/s]"
     ]
    },
    {
     "name": "stdout",
     "output_type": "stream",
     "text": [
      "\n",
      "TEST RESULTS: Epoch: 38,loss: 226652.2873\n",
      "min test_hist_loss 226652.2873\n",
      "Best models saved on epoch: 38, test_loss: 226652.2873\n",
      "Best models saved on epoch: 38, train_loss: 228772.9828\n",
      "Running during epoch: 39, iteration: 1889 of 2328 loss: 155031.7812555"
     ]
    },
    {
     "name": "stderr",
     "output_type": "stream",
     "text": [
      " 80%|██████████████████████████████████▍        | 40/50 [00:21<00:05,  1.86it/s]"
     ]
    },
    {
     "name": "stdout",
     "output_type": "stream",
     "text": [
      "Running during epoch: 39, iteration: 2327 of 2328 loss: 257079.1875755\n",
      "TRAIN RESULTS: Epoch: 39,loss: 228848.2563\n",
      "Time difference -0.47377514839172363\n",
      "\n",
      "TEST RESULTS: Epoch: 39,loss: 231143.7196\n",
      "min test_hist_loss 226652.2873\n",
      "Running during epoch: 40, iteration: 2220 of 2328 loss: 271627.9687555"
     ]
    },
    {
     "name": "stderr",
     "output_type": "stream",
     "text": [
      " 82%|███████████████████████████████████▎       | 41/50 [00:22<00:04,  1.86it/s]"
     ]
    },
    {
     "name": "stdout",
     "output_type": "stream",
     "text": [
      "Running during epoch: 40, iteration: 2327 of 2328 loss: 205375.6875555\n",
      "TRAIN RESULTS: Epoch: 40,loss: 228829.8553\n",
      "Time difference -0.011008024215698242\n",
      "\n",
      "TEST RESULTS: Epoch: 40,loss: 231565.4569\n",
      "min test_hist_loss 226652.2873\n",
      "Running during epoch: 41, iteration: 1588 of 2328 loss: 228811.2587555"
     ]
    },
    {
     "name": "stderr",
     "output_type": "stream",
     "text": [
      " 84%|████████████████████████████████████       | 42/50 [00:22<00:04,  1.86it/s]"
     ]
    },
    {
     "name": "stdout",
     "output_type": "stream",
     "text": [
      "Running during epoch: 41, iteration: 2327 of 2328 loss: 138314.8125555\n",
      "TRAIN RESULTS: Epoch: 41,loss: 228814.4031\n",
      "Time difference 0.4539070129394531\n",
      "\n",
      "TEST RESULTS: Epoch: 41,loss: 231121.9348\n",
      "min test_hist_loss 226652.2873\n",
      "Running during epoch: 42, iteration: 1902 of 2328 loss: 256528.1093755"
     ]
    },
    {
     "name": "stderr",
     "output_type": "stream",
     "text": [
      " 86%|████████████████████████████████████▉      | 43/50 [00:23<00:03,  1.86it/s]"
     ]
    },
    {
     "name": "stdout",
     "output_type": "stream",
     "text": [
      "Running during epoch: 42, iteration: 2327 of 2328 loss: 182142.7540625\n",
      "TRAIN RESULTS: Epoch: 42,loss: 228791.9174\n",
      "Time difference -0.08127403259277344\n",
      "\n",
      "TEST RESULTS: Epoch: 42,loss: 233681.9519\n",
      "min test_hist_loss 226652.2873\n",
      "Running during epoch: 43, iteration: 2203 of 2328 loss: 198179.9062555"
     ]
    },
    {
     "name": "stderr",
     "output_type": "stream",
     "text": [
      " 88%|█████████████████████████████████████▊     | 44/50 [00:23<00:03,  1.86it/s]"
     ]
    },
    {
     "name": "stdout",
     "output_type": "stream",
     "text": [
      "Running during epoch: 43, iteration: 2327 of 2328 loss: 162459.9062555\n",
      "TRAIN RESULTS: Epoch: 43,loss: 228775.8003\n",
      "Time difference 0.37865710258483887\n",
      "\n",
      "TEST RESULTS: Epoch: 43,loss: 232864.3528\n",
      "min test_hist_loss 226652.2873\n",
      "Running during epoch: 44, iteration: 1571 of 2328 loss: 429954.4375555"
     ]
    },
    {
     "name": "stderr",
     "output_type": "stream",
     "text": [
      " 90%|██████████████████████████████████████▋    | 45/50 [00:24<00:02,  1.86it/s]"
     ]
    },
    {
     "name": "stdout",
     "output_type": "stream",
     "text": [
      "Running during epoch: 44, iteration: 2327 of 2328 loss: 161293.6718755\n",
      "TRAIN RESULTS: Epoch: 44,loss: 228661.5042\n",
      "Time difference -0.16317105293273926\n",
      "\n",
      "TEST RESULTS: Epoch: 44,loss: 231237.5945\n",
      "min test_hist_loss 226652.2873\n",
      "Best models saved on epoch: 44, train_loss: 228661.5042\n",
      "Running during epoch: 45, iteration: 1906 of 2328 loss: 214533.2031255"
     ]
    },
    {
     "name": "stderr",
     "output_type": "stream",
     "text": [
      " 92%|███████████████████████████████████████▌   | 46/50 [00:24<00:02,  1.86it/s]"
     ]
    },
    {
     "name": "stdout",
     "output_type": "stream",
     "text": [
      "Running during epoch: 45, iteration: 2327 of 2328 loss: 266676.0625255\n",
      "TRAIN RESULTS: Epoch: 45,loss: 228717.3163\n",
      "Time difference 0.300037145614624\n",
      "\n",
      "TEST RESULTS: Epoch: 45,loss: 231439.1517\n",
      "min test_hist_loss 226652.2873\n",
      "Running during epoch: 46, iteration: 2215 of 2328 loss: 121764.5078125"
     ]
    },
    {
     "name": "stderr",
     "output_type": "stream",
     "text": [
      " 94%|████████████████████████████████████████▍  | 47/50 [00:25<00:01,  1.86it/s]"
     ]
    },
    {
     "name": "stdout",
     "output_type": "stream",
     "text": [
      "Running during epoch: 46, iteration: 2327 of 2328 loss: 76511.07031255\n",
      "TRAIN RESULTS: Epoch: 46,loss: 228728.2352\n",
      "Time difference -0.23477816581726074\n",
      "\n",
      "TEST RESULTS: Epoch: 46,loss: 230987.8136\n",
      "min test_hist_loss 226652.2873\n",
      "Running during epoch: 47, iteration: 2327 of 2328 loss: 367628.3753755\n",
      "TRAIN RESULTS: Epoch: 47,loss: 228768.9368\n",
      "Time difference 0.224776029586792\n"
     ]
    },
    {
     "name": "stderr",
     "output_type": "stream",
     "text": [
      " 96%|█████████████████████████████████████████▎ | 48/50 [00:25<00:01,  1.85it/s]"
     ]
    },
    {
     "name": "stdout",
     "output_type": "stream",
     "text": [
      "\n",
      "TEST RESULTS: Epoch: 47,loss: 231713.4845\n",
      "min test_hist_loss 226652.2873\n",
      "Running during epoch: 48, iteration: 1880 of 2328 loss: 248299.7656255"
     ]
    },
    {
     "name": "stderr",
     "output_type": "stream",
     "text": [
      " 98%|██████████████████████████████████████████▏| 49/50 [00:26<00:00,  1.85it/s]"
     ]
    },
    {
     "name": "stdout",
     "output_type": "stream",
     "text": [
      "Running during epoch: 48, iteration: 2327 of 2328 loss: 139446.9843755\n",
      "TRAIN RESULTS: Epoch: 48,loss: 228702.3406\n",
      "Time difference -0.32231712341308594\n",
      "\n",
      "TEST RESULTS: Epoch: 48,loss: 231654.4813\n",
      "min test_hist_loss 226652.2873\n",
      "Running during epoch: 49, iteration: 2186 of 2328 loss: 186621.1718755"
     ]
    },
    {
     "name": "stderr",
     "output_type": "stream",
     "text": [
      "100%|███████████████████████████████████████████| 50/50 [00:26<00:00,  1.85it/s]"
     ]
    },
    {
     "name": "stdout",
     "output_type": "stream",
     "text": [
      "Running during epoch: 49, iteration: 2327 of 2328 loss: 112907.1875755\n",
      "TRAIN RESULTS: Epoch: 49,loss: 228695.7875\n",
      "Time difference 0.13822197914123535\n",
      "\n",
      "TEST RESULTS: Epoch: 49,loss: 231432.2503\n",
      "min test_hist_loss 226652.2873\n"
     ]
    },
    {
     "name": "stderr",
     "output_type": "stream",
     "text": [
      "\n"
     ]
    }
   ],
   "source": [
    "from tqdm import tqdm\n",
    "import time\n",
    "\n",
    "\n",
    "if torch.cuda.is_available():\n",
    "    device = torch.device(\"cuda\")\n",
    "elif torch.backends.mps.is_available():\n",
    "    device = torch.device(\"mps\")\n",
    "else:\n",
    "    device = torch.device(\"cpu\")\n",
    "    \n",
    "device = torch.device(\"cpu\")    \n",
    "    \n",
    "print(f\"device: {device}\")\n",
    "\n",
    "\n",
    "input_feature = 42\n",
    "alpha=4\n",
    "# model = Net_Line_regres(input_feature).to(device) \n",
    "model = Net_Snake(input_feature, alpha).to(device) \n",
    "\n",
    "\n",
    "epochs=50\n",
    "lr=0.001\n",
    "\n",
    "pth_save_test=\"./weights/best_linear_regr_test.pth\"\n",
    "pth_save_train=\"./weights/best_linear_regr_train.pth\"\n",
    "\n",
    "\n",
    "# Prapare train\n",
    "criteria = nn.MSELoss()\n",
    "# optimizer = torch.optim.Adam(model.parameters(), lr=lr )\n",
    "optimizer = torch.optim.SGD(model.parameters(), lr=lr ) # ,momentum=0.5\n",
    "\n",
    "scheduler = torch.optim.lr_scheduler.OneCycleLR(optimizer, max_lr=lr, epochs=epochs+1, steps_per_epoch=len(train_dataloader))\n",
    "\n",
    "train=Train(train_dataloader,\n",
    "            device,\n",
    "            optimizer,\n",
    "            criteria,\n",
    "            scheduler)\n",
    "\n",
    "test=Test(  test_dataloader,\n",
    "            device,\n",
    "            criteria)\n",
    "\n",
    "hist_keep=History_keeper()\n",
    "lrs = []\n",
    "\n",
    "\n",
    "for epoch in tqdm(range(epochs)):\n",
    "    model, train_loss  = train.run(model,epoch)\n",
    "    test_loss  = test.run(model,epoch)\n",
    "    \n",
    "    # logging\n",
    "    hist_keep.add_train(train_loss, epoch)\n",
    "    hist_keep.add_test(test_loss, epoch)\n",
    "    \n",
    "    # compare_models\n",
    "    # print(f\"test_hist_accuracy {hist_keep.test_hist_accuracy}\")\n",
    "    print(f\"min test_hist_loss {min(hist_keep.test_hist_loss)}\")\n",
    "\n",
    "    if  test_loss<=min(hist_keep.test_hist_loss):\n",
    "        torch.save(model.state_dict(), pth_save_test)\n",
    "        print(f\"Best models saved on epoch: {epoch}, test_loss: {test_loss}\")\n",
    "        \n",
    "    if  train_loss<=min(hist_keep.train_hist_loss):\n",
    "        torch.save(model.state_dict(), pth_save_train)\n",
    "        print(f\"Best models saved on epoch: {epoch}, train_loss: {train_loss}\")\n",
    "        \n",
    "    lrs.append(optimizer.param_groups[0][\"lr\"])\n"
   ]
  },
  {
   "cell_type": "code",
   "execution_count": null,
   "id": "94a485ec-1df2-4cf8-b881-41c6b525c478",
   "metadata": {},
   "outputs": [],
   "source": []
  },
  {
   "cell_type": "code",
   "execution_count": 23,
   "id": "4908332d-a132-4709-9776-90bd6acba067",
   "metadata": {},
   "outputs": [
    {
     "data": {
      "text/plain": [
       "[<matplotlib.lines.Line2D at 0x17fecf350>]"
      ]
     },
     "execution_count": 23,
     "metadata": {},
     "output_type": "execute_result"
    },
    {
     "data": {
      "image/png": "[encoded data removed]",
      "text/plain": [
       "<Figure size 640x480 with 1 Axes>"
      ]
     },
     "metadata": {},
     "output_type": "display_data"
    }
   ],
   "source": [
    "plt.plot(lrs)"
   ]
  },
  {
   "cell_type": "code",
   "execution_count": 24,
   "id": "048704de-d506-4c4b-b9e3-9ab37f5921e2",
   "metadata": {},
   "outputs": [
    {
     "name": "stdout",
     "output_type": "stream",
     "text": [
      "226652.2873\n"
     ]
    },
    {
     "data": {
      "image/png": "[encoded data removed]",
      "text/plain": [
       "<Figure size 1500x750 with 1 Axes>"
      ]
     },
     "metadata": {},
     "output_type": "display_data"
    }
   ],
   "source": [
    "plot_hist_loss(hist_keep)\n",
    "print(min(hist_keep.test_hist_loss))"
   ]
  },
  {
   "cell_type": "raw",
   "id": "d2de1f74-5dbd-4e04-b723-5f15ba119d82",
   "metadata": {},
   "source": [
    "## 001\n",
    "312394.1323 (linear 42 hiden 2 layer)\n",
    "\n",
    "\n",
    "## 002\n",
    "247366.9516 (linear 3000 hiden 2 layer)\n",
    "Error metrics for model NN with relu\n",
    "RMSE or Root mean squared error: 491.81\n",
    "Variance score: 0.00\n",
    "Mean Absolute Error: 378.02\n",
    "Mean Absolute Percentage Error: 15.89 %\n",
    "\n",
    "## 003\n",
    "253607.0002\n",
    "\n",
    "\n",
    "##004\n",
    "263615.9234\n",
    "\n",
    "\n",
    "### 005\n",
    "263110.4441\n",
    "n_hidden_neurons=9000 2 layer"
   ]
  },
  {
   "cell_type": "markdown",
   "id": "198215e5-77e0-4f85-bd52-d3f8eb21ef23",
   "metadata": {},
   "source": [
    "## Inference test"
   ]
  },
  {
   "cell_type": "code",
   "execution_count": 25,
   "id": "a689e35b-b7e4-4f3c-8374-26f0ecd3ceac",
   "metadata": {},
   "outputs": [],
   "source": [
    "class Inference:\n",
    "    def __init__ (  self,\n",
    "                    test_dataloader,\n",
    "                    device,\n",
    "                    criteria):\n",
    "        \n",
    "        self.test_dataloader=test_dataloader\n",
    "        self.device=device\n",
    "        self.criteria=criteria\n",
    "\n",
    "        self.answers = np.empty((3,0), np.half)\n",
    "\n",
    "    def __join_arrays(self,time_index,target,out):\n",
    "        time_index=time_index.reshape(1,-1)\n",
    "        target=target.reshape(1,-1)\n",
    "        out=out.reshape(1,-1)\n",
    "        tmp_concat=np.concatenate((time_index,target,out),axis=0)\n",
    "        # self.answers=np.concatenate((self.answers,tmp_concat),axis=1)\n",
    "        self.answers=np.append(self.answers, tmp_concat, axis=1)\n",
    "\n",
    "        \n",
    "    def run(self, model):\n",
    "        model.eval()\n",
    "        self.loss_hist = Metric_hist()\n",
    "        \n",
    "        with torch.no_grad():\n",
    "            for data, target, time_index in self.test_dataloader:\n",
    "                data_device, target_device = data.to(device), target.to(device)\n",
    "\n",
    "                # Forward\n",
    "                out = model(data_device)\n",
    "\n",
    "                loss=self.criteria(out,target_device)\n",
    "                self.loss_hist.add_value(float(loss),len(target))\n",
    "\n",
    "                time_index=time_index.numpy()\n",
    "                target=target.numpy()\n",
    "                out=out.detach().cpu().numpy()\n",
    "                self.__join_arrays(time_index,target,out)\n",
    "\n",
    "\n",
    "                # self.answers = np.append(self.answers, np.array([[time_index,target,out]]), axis=0)\n",
    "\n",
    "        total_loss  = self.loss_hist.get_metric\n",
    "        print(f\"\\nRESULTS: loss: {total_loss}\")\n",
    "        \n",
    "        return total_loss"
   ]
  },
  {
   "cell_type": "code",
   "execution_count": 26,
   "id": "1b0147ee-2299-425c-804d-e92467620fff",
   "metadata": {
    "scrolled": true
   },
   "outputs": [
    {
     "name": "stdout",
     "output_type": "stream",
     "text": [
      "\n",
      "RESULTS: loss: 226652.2873\n"
     ]
    }
   ],
   "source": [
    "path_save=\"./weights/best_linear_regr_test.pth\"\n",
    "# path_save=\"./weights/best_linear_regr_train.pth\"\n",
    "\n",
    "\n",
    "model.load_state_dict(torch.load(path_save))\n",
    "\n",
    "obj_inference = Inference(test_dataloader,device,criteria)\n",
    "obj_inference.run(model)\n",
    "out_predict = obj_inference.answers[-1,:]"
   ]
  },
  {
   "cell_type": "markdown",
   "id": "82fa86ac-24d9-4b0c-b6e6-1c9a9459dafa",
   "metadata": {},
   "source": [
    "# PLOT Graph"
   ]
  },
  {
   "cell_type": "code",
   "execution_count": 27,
   "id": "e1e68357-bc24-4da5-af1a-33c2d175bf72",
   "metadata": {},
   "outputs": [
    {
     "data": {
      "text/html": [
       "<iframe\n",
       "    scrolling=\"no\"\n",
       "    width=\"100%\"\n",
       "    height=\"545px\"\n",
       "    src=\"iframe_figures/figure_27.html\"\n",
       "    frameborder=\"0\"\n",
       "    allowfullscreen\n",
       "></iframe>\n"
      ]
     },
     "metadata": {},
     "output_type": "display_data"
    }
   ],
   "source": [
    "plot_ts_pred(y_test,out_predict)"
   ]
  },
  {
   "cell_type": "markdown",
   "id": "33d2eb5f-1e30-40f7-a466-e8219421c48c",
   "metadata": {},
   "source": [
    "## Metrisc"
   ]
  },
  {
   "cell_type": "code",
   "execution_count": null,
   "id": "92ec5808-3393-4c8b-b7bb-c4e7ea59da85",
   "metadata": {},
   "outputs": [],
   "source": []
  },
  {
   "cell_type": "code",
   "execution_count": 28,
   "id": "ede37023-8319-409c-ac6d-04b616b8f3cc",
   "metadata": {},
   "outputs": [],
   "source": [
    "from sklearn.metrics import mean_squared_error, r2_score, mean_absolute_error\n",
    "\n",
    "dict_error = dict()\n",
    "\n",
    "def error_metrics(y_pred, y_truth, model_name = None, test = True):\n",
    "    \"\"\"\n",
    "    Printing error metrics like RMSE (root mean square error), R2 score, \n",
    "    MAE (mean absolute error), MAPE (mean absolute % error). \n",
    "    \n",
    "    y_pred: predicted values of y using the model model_name\n",
    "    y_truth: observed values of y\n",
    "    model_name: name of the model used for predictions\n",
    "    test: if validating on test set, True; otherwise False for training set validation\n",
    "    \n",
    "    The function will print the RMSE, R2, MAE and MAPE error metrics for the model_name and also store the results along with \n",
    "    model_name in the dictionary dict_error so that we can compare all the models at the end.\n",
    "    \"\"\"\n",
    "    if isinstance(y_pred, np.ndarray):\n",
    "        y_pred = y_pred\n",
    "    else:\n",
    "        y_pred = y_pred.to_numpy()\n",
    "        \n",
    "    if isinstance(y_truth, np.ndarray):\n",
    "        y_truth = y_truth\n",
    "    else:\n",
    "        y_truth = y_truth.to_numpy()\n",
    "        \n",
    "    print('\\nError metrics for model {}'.format(model_name))\n",
    "    \n",
    "    RMSE = np.sqrt(mean_squared_error(y_truth, y_pred))\n",
    "    print(\"RMSE or Root mean squared error: %.2f\" % RMSE)\n",
    "    \n",
    "    # Explained variance score: 1 is perfect prediction\n",
    "\n",
    "    R2 = r2_score(y_truth, y_pred)\n",
    "    print('Variance score: %.2f' % R2 )\n",
    "\n",
    "    MAE = mean_absolute_error(y_truth, y_pred)\n",
    "    print('Mean Absolute Error: %.2f' % MAE)\n",
    "\n",
    "    MAPE = (np.mean(np.abs((y_truth - y_pred) / y_truth)) * 100)\n",
    "    print('Mean Absolute Percentage Error: %.2f %%' % MAPE)\n",
    "    \n",
    "    # Appending the error values along with the model_name to the dict\n",
    "    if test:\n",
    "        train_test = 'test'\n",
    "    else:\n",
    "        train_test = 'train'\n",
    "    \n",
    "    #df = pd.DataFrame({'model': model_name, 'RMSE':RMSE, 'R2':R2, 'MAE':MAE, 'MAPE':MAPE}, index=[0])\n",
    "    name_error = ['model', 'train_test', 'RMSE', 'R2', 'MAE', 'MAPE']\n",
    "    value_error = [model_name, train_test, RMSE, R2, MAE, MAPE]\n",
    "    list_error = list(zip(name_error, value_error))\n",
    "    \n",
    "    for error in list_error:\n",
    "        if error[0] in dict_error:\n",
    "            # append the new number to the existing array at this slot\n",
    "            dict_error[error[0]].append(error[1])\n",
    "        else:\n",
    "            # create a new array in this slot\n",
    "            dict_error[error[0]] = [error[1]]\n",
    "    #return(dict_error)"
   ]
  },
  {
   "cell_type": "code",
   "execution_count": 29,
   "id": "c759dfd8-c48c-4abb-9a85-3c924d15de51",
   "metadata": {},
   "outputs": [
    {
     "name": "stdout",
     "output_type": "stream",
     "text": [
      "\n",
      "Error metrics for model NN with relu\n",
      "RMSE or Root mean squared error: 463.19\n",
      "Variance score: 0.12\n",
      "Mean Absolute Error: 361.74\n",
      "Mean Absolute Percentage Error: 15.43 %\n"
     ]
    }
   ],
   "source": [
    "error_metrics(out_predict, y_test, model_name = 'NN with relu', test = False)"
   ]
  },
  {
   "cell_type": "code",
   "execution_count": null,
   "id": "dce0dfe9-d797-4dd0-9738-50855d81797c",
   "metadata": {},
   "outputs": [],
   "source": [
    "dict_error"
   ]
  },
  {
   "cell_type": "code",
   "execution_count": null,
   "id": "4d36062b-7d5c-4610-8fb7-a016adf78ad8",
   "metadata": {},
   "outputs": [],
   "source": []
  },
  {
   "cell_type": "code",
   "execution_count": null,
   "id": "4cca5870-b77b-4be4-81bd-e1d4478e3d5a",
   "metadata": {},
   "outputs": [],
   "source": []
  },
  {
   "cell_type": "code",
   "execution_count": null,
   "id": "638c1296-3d56-4e2a-b437-22d24d85681f",
   "metadata": {},
   "outputs": [],
   "source": [
    "pred=torch.tensor(lm.predict(X_test))"
   ]
  },
  {
   "cell_type": "code",
   "execution_count": null,
   "id": "d238d38b-0892-4b84-bafe-28c41924b1b4",
   "metadata": {},
   "outputs": [],
   "source": [
    "target=torch.tensor(np.array(y_test))"
   ]
  },
  {
   "cell_type": "code",
   "execution_count": null,
   "id": "5964c18c-48e5-49d7-91e9-09ba99efc5ef",
   "metadata": {},
   "outputs": [],
   "source": [
    "criteria = nn.MSELoss()\n",
    "loss=criteria(pred,target)\n",
    "loss"
   ]
  },
  {
   "cell_type": "code",
   "execution_count": null,
   "id": "8e4ead25-d453-41c7-8dd9-98773be42a3f",
   "metadata": {},
   "outputs": [],
   "source": [
    "X_train.shape"
   ]
  },
  {
   "cell_type": "code",
   "execution_count": 30,
   "id": "ecb8c182-da26-49fc-b5b2-fa2936a48621",
   "metadata": {
    "scrolled": true
   },
   "outputs": [
    {
     "data": {
      "text/html": [
       "<style>#sk-container-id-1 {color: black;background-color: white;}#sk-container-id-1 pre{padding: 0;}#sk-container-id-1 div.sk-toggleable {background-color: white;}#sk-container-id-1 label.sk-toggleable__label {cursor: pointer;display: block;width: 100%;margin-bottom: 0;padding: 0.3em;box-sizing: border-box;text-align: center;}#sk-container-id-1 label.sk-toggleable__label-arrow:before {content: \"▸\";float: left;margin-right: 0.25em;color: #696969;}#sk-container-id-1 label.sk-toggleable__label-arrow:hover:before {color: black;}#sk-container-id-1 div.sk-estimator:hover label.sk-toggleable__label-arrow:before {color: black;}#sk-container-id-1 div.sk-toggleable__content {max-height: 0;max-width: 0;overflow: hidden;text-align: left;background-color: #f0f8ff;}#sk-container-id-1 div.sk-toggleable__content pre {margin: 0.2em;color: black;border-radius: 0.25em;background-color: #f0f8ff;}#sk-container-id-1 input.sk-toggleable__control:checked~div.sk-toggleable__content {max-height: 200px;max-width: 100%;overflow: auto;}#sk-container-id-1 input.sk-toggleable__control:checked~label.sk-toggleable__label-arrow:before {content: \"▾\";}#sk-container-id-1 div.sk-estimator input.sk-toggleable__control:checked~label.sk-toggleable__label {background-color: #d4ebff;}#sk-container-id-1 div.sk-label input.sk-toggleable__control:checked~label.sk-toggleable__label {background-color: #d4ebff;}#sk-container-id-1 input.sk-hidden--visually {border: 0;clip: rect(1px 1px 1px 1px);clip: rect(1px, 1px, 1px, 1px);height: 1px;margin: -1px;overflow: hidden;padding: 0;position: absolute;width: 1px;}#sk-container-id-1 div.sk-estimator {font-family: monospace;background-color: #f0f8ff;border: 1px dotted black;border-radius: 0.25em;box-sizing: border-box;margin-bottom: 0.5em;}#sk-container-id-1 div.sk-estimator:hover {background-color: #d4ebff;}#sk-container-id-1 div.sk-parallel-item::after {content: \"\";width: 100%;border-bottom: 1px solid gray;flex-grow: 1;}#sk-container-id-1 div.sk-label:hover label.sk-toggleable__label {background-color: #d4ebff;}#sk-container-id-1 div.sk-serial::before {content: \"\";position: absolute;border-left: 1px solid gray;box-sizing: border-box;top: 0;bottom: 0;left: 50%;z-index: 0;}#sk-container-id-1 div.sk-serial {display: flex;flex-direction: column;align-items: center;background-color: white;padding-right: 0.2em;padding-left: 0.2em;position: relative;}#sk-container-id-1 div.sk-item {position: relative;z-index: 1;}#sk-container-id-1 div.sk-parallel {display: flex;align-items: stretch;justify-content: center;background-color: white;position: relative;}#sk-container-id-1 div.sk-item::before, #sk-container-id-1 div.sk-parallel-item::before {content: \"\";position: absolute;border-left: 1px solid gray;box-sizing: border-box;top: 0;bottom: 0;left: 50%;z-index: -1;}#sk-container-id-1 div.sk-parallel-item {display: flex;flex-direction: column;z-index: 1;position: relative;background-color: white;}#sk-container-id-1 div.sk-parallel-item:first-child::after {align-self: flex-end;width: 50%;}#sk-container-id-1 div.sk-parallel-item:last-child::after {align-self: flex-start;width: 50%;}#sk-container-id-1 div.sk-parallel-item:only-child::after {width: 0;}#sk-container-id-1 div.sk-dashed-wrapped {border: 1px dashed gray;margin: 0 0.4em 0.5em 0.4em;box-sizing: border-box;padding-bottom: 0.4em;background-color: white;}#sk-container-id-1 div.sk-label label {font-family: monospace;font-weight: bold;display: inline-block;line-height: 1.2em;}#sk-container-id-1 div.sk-label-container {text-align: center;}#sk-container-id-1 div.sk-container {/* jupyter's `normalize.less` sets `[hidden] { display: none; }` but bootstrap.min.css set `[hidden] { display: none !important; }` so we also need the `!important` here to be able to override the default hidden behavior on the sphinx rendered scikit-learn.org. See: https://github.com/scikit-learn/scikit-learn/issues/21755 */display: inline-block !important;position: relative;}#sk-container-id-1 div.sk-text-repr-fallback {display: none;}</style><div id=\"sk-container-id-1\" class=\"sk-top-container\"><div class=\"sk-text-repr-fallback\"><pre>LinearRegression()</pre><b>In a Jupyter environment, please rerun this cell to show the HTML representation or trust the notebook. <br />On GitHub, the HTML representation is unable to render, please try loading this page with nbviewer.org.</b></div><div class=\"sk-container\" hidden><div class=\"sk-item\"><div class=\"sk-estimator sk-toggleable\"><input class=\"sk-toggleable__control sk-hidden--visually\" id=\"sk-estimator-id-1\" type=\"checkbox\" checked><label for=\"sk-estimator-id-1\" class=\"sk-toggleable__label sk-toggleable__label-arrow\">LinearRegression</label><div class=\"sk-toggleable__content\"><pre>LinearRegression()</pre></div></div></div></div></div>"
      ],
      "text/plain": [
       "LinearRegression()"
      ]
     },
     "execution_count": 30,
     "metadata": {},
     "output_type": "execute_result"
    }
   ],
   "source": [
    "## Line regression\n",
    "\n",
    "from sklearn.linear_model import LinearRegression\n",
    "\n",
    "lm = LinearRegression()\n",
    "\n",
    "lm.fit(X_train, y_train)"
   ]
  },
  {
   "cell_type": "code",
   "execution_count": null,
   "id": "8734db4a-f34b-4dc6-ad0a-115f7c78d87e",
   "metadata": {},
   "outputs": [],
   "source": []
  },
  {
   "cell_type": "code",
   "execution_count": 31,
   "id": "06b39a94-0cef-4809-b0fd-b4b9caf9602a",
   "metadata": {},
   "outputs": [
    {
     "data": {
      "text/html": [
       "<div>\n",
       "<style scoped>\n",
       "    .dataframe tbody tr th:only-of-type {\n",
       "        vertical-align: middle;\n",
       "    }\n",
       "\n",
       "    .dataframe tbody tr th {\n",
       "        vertical-align: top;\n",
       "    }\n",
       "\n",
       "    .dataframe thead th {\n",
       "        text-align: right;\n",
       "    }\n",
       "</style>\n",
       "<table border=\"1\" class=\"dataframe\">\n",
       "  <thead>\n",
       "    <tr style=\"text-align: right;\">\n",
       "      <th></th>\n",
       "      <th>HourlyDryBulbTemperature</th>\n",
       "      <th>cum_AC_kW</th>\n",
       "      <th>year_2015</th>\n",
       "      <th>year_2016</th>\n",
       "      <th>year_2017</th>\n",
       "      <th>year_2018</th>\n",
       "      <th>month_2</th>\n",
       "      <th>month_3</th>\n",
       "      <th>month_4</th>\n",
       "      <th>month_5</th>\n",
       "      <th>...</th>\n",
       "      <th>hour_16</th>\n",
       "      <th>hour_17</th>\n",
       "      <th>hour_18</th>\n",
       "      <th>hour_19</th>\n",
       "      <th>hour_20</th>\n",
       "      <th>hour_21</th>\n",
       "      <th>hour_22</th>\n",
       "      <th>hour_23</th>\n",
       "      <th>season_winter</th>\n",
       "      <th>non_working_working</th>\n",
       "    </tr>\n",
       "    <tr>\n",
       "      <th>Dates</th>\n",
       "      <th></th>\n",
       "      <th></th>\n",
       "      <th></th>\n",
       "      <th></th>\n",
       "      <th></th>\n",
       "      <th></th>\n",
       "      <th></th>\n",
       "      <th></th>\n",
       "      <th></th>\n",
       "      <th></th>\n",
       "      <th></th>\n",
       "      <th></th>\n",
       "      <th></th>\n",
       "      <th></th>\n",
       "      <th></th>\n",
       "      <th></th>\n",
       "      <th></th>\n",
       "      <th></th>\n",
       "      <th></th>\n",
       "      <th></th>\n",
       "      <th></th>\n",
       "    </tr>\n",
       "  </thead>\n",
       "  <tbody>\n",
       "    <tr>\n",
       "      <th>2014-01-01 00:00:00</th>\n",
       "      <td>-1.998981</td>\n",
       "      <td>-1.474575</td>\n",
       "      <td>False</td>\n",
       "      <td>False</td>\n",
       "      <td>False</td>\n",
       "      <td>False</td>\n",
       "      <td>False</td>\n",
       "      <td>False</td>\n",
       "      <td>False</td>\n",
       "      <td>False</td>\n",
       "      <td>...</td>\n",
       "      <td>False</td>\n",
       "      <td>False</td>\n",
       "      <td>False</td>\n",
       "      <td>False</td>\n",
       "      <td>False</td>\n",
       "      <td>False</td>\n",
       "      <td>False</td>\n",
       "      <td>False</td>\n",
       "      <td>True</td>\n",
       "      <td>False</td>\n",
       "    </tr>\n",
       "    <tr>\n",
       "      <th>2014-01-01 01:00:00</th>\n",
       "      <td>-1.931576</td>\n",
       "      <td>-1.474575</td>\n",
       "      <td>False</td>\n",
       "      <td>False</td>\n",
       "      <td>False</td>\n",
       "      <td>False</td>\n",
       "      <td>False</td>\n",
       "      <td>False</td>\n",
       "      <td>False</td>\n",
       "      <td>False</td>\n",
       "      <td>...</td>\n",
       "      <td>False</td>\n",
       "      <td>False</td>\n",
       "      <td>False</td>\n",
       "      <td>False</td>\n",
       "      <td>False</td>\n",
       "      <td>False</td>\n",
       "      <td>False</td>\n",
       "      <td>False</td>\n",
       "      <td>True</td>\n",
       "      <td>False</td>\n",
       "    </tr>\n",
       "    <tr>\n",
       "      <th>2014-01-01 02:00:00</th>\n",
       "      <td>-1.891133</td>\n",
       "      <td>-1.474575</td>\n",
       "      <td>False</td>\n",
       "      <td>False</td>\n",
       "      <td>False</td>\n",
       "      <td>False</td>\n",
       "      <td>False</td>\n",
       "      <td>False</td>\n",
       "      <td>False</td>\n",
       "      <td>False</td>\n",
       "      <td>...</td>\n",
       "      <td>False</td>\n",
       "      <td>False</td>\n",
       "      <td>False</td>\n",
       "      <td>False</td>\n",
       "      <td>False</td>\n",
       "      <td>False</td>\n",
       "      <td>False</td>\n",
       "      <td>False</td>\n",
       "      <td>True</td>\n",
       "      <td>False</td>\n",
       "    </tr>\n",
       "    <tr>\n",
       "      <th>2014-01-01 03:00:00</th>\n",
       "      <td>-2.133791</td>\n",
       "      <td>-1.474575</td>\n",
       "      <td>False</td>\n",
       "      <td>False</td>\n",
       "      <td>False</td>\n",
       "      <td>False</td>\n",
       "      <td>False</td>\n",
       "      <td>False</td>\n",
       "      <td>False</td>\n",
       "      <td>False</td>\n",
       "      <td>...</td>\n",
       "      <td>False</td>\n",
       "      <td>False</td>\n",
       "      <td>False</td>\n",
       "      <td>False</td>\n",
       "      <td>False</td>\n",
       "      <td>False</td>\n",
       "      <td>False</td>\n",
       "      <td>False</td>\n",
       "      <td>True</td>\n",
       "      <td>False</td>\n",
       "    </tr>\n",
       "    <tr>\n",
       "      <th>2014-01-01 04:00:00</th>\n",
       "      <td>-2.295562</td>\n",
       "      <td>-1.474575</td>\n",
       "      <td>False</td>\n",
       "      <td>False</td>\n",
       "      <td>False</td>\n",
       "      <td>False</td>\n",
       "      <td>False</td>\n",
       "      <td>False</td>\n",
       "      <td>False</td>\n",
       "      <td>False</td>\n",
       "      <td>...</td>\n",
       "      <td>False</td>\n",
       "      <td>False</td>\n",
       "      <td>False</td>\n",
       "      <td>False</td>\n",
       "      <td>False</td>\n",
       "      <td>False</td>\n",
       "      <td>False</td>\n",
       "      <td>False</td>\n",
       "      <td>True</td>\n",
       "      <td>False</td>\n",
       "    </tr>\n",
       "    <tr>\n",
       "      <th>...</th>\n",
       "      <td>...</td>\n",
       "      <td>...</td>\n",
       "      <td>...</td>\n",
       "      <td>...</td>\n",
       "      <td>...</td>\n",
       "      <td>...</td>\n",
       "      <td>...</td>\n",
       "      <td>...</td>\n",
       "      <td>...</td>\n",
       "      <td>...</td>\n",
       "      <td>...</td>\n",
       "      <td>...</td>\n",
       "      <td>...</td>\n",
       "      <td>...</td>\n",
       "      <td>...</td>\n",
       "      <td>...</td>\n",
       "      <td>...</td>\n",
       "      <td>...</td>\n",
       "      <td>...</td>\n",
       "      <td>...</td>\n",
       "      <td>...</td>\n",
       "    </tr>\n",
       "    <tr>\n",
       "      <th>2018-04-01 21:00:00</th>\n",
       "      <td>-0.785692</td>\n",
       "      <td>1.753704</td>\n",
       "      <td>False</td>\n",
       "      <td>False</td>\n",
       "      <td>False</td>\n",
       "      <td>True</td>\n",
       "      <td>False</td>\n",
       "      <td>False</td>\n",
       "      <td>True</td>\n",
       "      <td>False</td>\n",
       "      <td>...</td>\n",
       "      <td>False</td>\n",
       "      <td>False</td>\n",
       "      <td>False</td>\n",
       "      <td>False</td>\n",
       "      <td>False</td>\n",
       "      <td>True</td>\n",
       "      <td>False</td>\n",
       "      <td>False</td>\n",
       "      <td>True</td>\n",
       "      <td>False</td>\n",
       "    </tr>\n",
       "    <tr>\n",
       "      <th>2018-04-01 22:00:00</th>\n",
       "      <td>-0.751990</td>\n",
       "      <td>1.753704</td>\n",
       "      <td>False</td>\n",
       "      <td>False</td>\n",
       "      <td>False</td>\n",
       "      <td>True</td>\n",
       "      <td>False</td>\n",
       "      <td>False</td>\n",
       "      <td>True</td>\n",
       "      <td>False</td>\n",
       "      <td>...</td>\n",
       "      <td>False</td>\n",
       "      <td>False</td>\n",
       "      <td>False</td>\n",
       "      <td>False</td>\n",
       "      <td>False</td>\n",
       "      <td>False</td>\n",
       "      <td>True</td>\n",
       "      <td>False</td>\n",
       "      <td>True</td>\n",
       "      <td>False</td>\n",
       "    </tr>\n",
       "    <tr>\n",
       "      <th>2018-04-01 23:00:00</th>\n",
       "      <td>-0.785692</td>\n",
       "      <td>1.753704</td>\n",
       "      <td>False</td>\n",
       "      <td>False</td>\n",
       "      <td>False</td>\n",
       "      <td>True</td>\n",
       "      <td>False</td>\n",
       "      <td>False</td>\n",
       "      <td>True</td>\n",
       "      <td>False</td>\n",
       "      <td>...</td>\n",
       "      <td>False</td>\n",
       "      <td>False</td>\n",
       "      <td>False</td>\n",
       "      <td>False</td>\n",
       "      <td>False</td>\n",
       "      <td>False</td>\n",
       "      <td>False</td>\n",
       "      <td>True</td>\n",
       "      <td>True</td>\n",
       "      <td>False</td>\n",
       "    </tr>\n",
       "    <tr>\n",
       "      <th>2018-04-02 00:00:00</th>\n",
       "      <td>-0.785692</td>\n",
       "      <td>1.755237</td>\n",
       "      <td>False</td>\n",
       "      <td>False</td>\n",
       "      <td>False</td>\n",
       "      <td>True</td>\n",
       "      <td>False</td>\n",
       "      <td>False</td>\n",
       "      <td>True</td>\n",
       "      <td>False</td>\n",
       "      <td>...</td>\n",
       "      <td>False</td>\n",
       "      <td>False</td>\n",
       "      <td>False</td>\n",
       "      <td>False</td>\n",
       "      <td>False</td>\n",
       "      <td>False</td>\n",
       "      <td>False</td>\n",
       "      <td>False</td>\n",
       "      <td>True</td>\n",
       "      <td>True</td>\n",
       "    </tr>\n",
       "    <tr>\n",
       "      <th>2018-04-02 01:00:00</th>\n",
       "      <td>-0.785692</td>\n",
       "      <td>1.755237</td>\n",
       "      <td>False</td>\n",
       "      <td>False</td>\n",
       "      <td>False</td>\n",
       "      <td>True</td>\n",
       "      <td>False</td>\n",
       "      <td>False</td>\n",
       "      <td>True</td>\n",
       "      <td>False</td>\n",
       "      <td>...</td>\n",
       "      <td>False</td>\n",
       "      <td>False</td>\n",
       "      <td>False</td>\n",
       "      <td>False</td>\n",
       "      <td>False</td>\n",
       "      <td>False</td>\n",
       "      <td>False</td>\n",
       "      <td>False</td>\n",
       "      <td>True</td>\n",
       "      <td>True</td>\n",
       "    </tr>\n",
       "  </tbody>\n",
       "</table>\n",
       "<p>37250 rows × 42 columns</p>\n",
       "</div>"
      ],
      "text/plain": [
       "                     HourlyDryBulbTemperature  cum_AC_kW  year_2015  \\\n",
       "Dates                                                                 \n",
       "2014-01-01 00:00:00                 -1.998981  -1.474575      False   \n",
       "2014-01-01 01:00:00                 -1.931576  -1.474575      False   \n",
       "2014-01-01 02:00:00                 -1.891133  -1.474575      False   \n",
       "2014-01-01 03:00:00                 -2.133791  -1.474575      False   \n",
       "2014-01-01 04:00:00                 -2.295562  -1.474575      False   \n",
       "...                                       ...        ...        ...   \n",
       "2018-04-01 21:00:00                 -0.785692   1.753704      False   \n",
       "2018-04-01 22:00:00                 -0.751990   1.753704      False   \n",
       "2018-04-01 23:00:00                 -0.785692   1.753704      False   \n",
       "2018-04-02 00:00:00                 -0.785692   1.755237      False   \n",
       "2018-04-02 01:00:00                 -0.785692   1.755237      False   \n",
       "\n",
       "                     year_2016  year_2017  year_2018  month_2  month_3  \\\n",
       "Dates                                                                    \n",
       "2014-01-01 00:00:00      False      False      False    False    False   \n",
       "2014-01-01 01:00:00      False      False      False    False    False   \n",
       "2014-01-01 02:00:00      False      False      False    False    False   \n",
       "2014-01-01 03:00:00      False      False      False    False    False   \n",
       "2014-01-01 04:00:00      False      False      False    False    False   \n",
       "...                        ...        ...        ...      ...      ...   \n",
       "2018-04-01 21:00:00      False      False       True    False    False   \n",
       "2018-04-01 22:00:00      False      False       True    False    False   \n",
       "2018-04-01 23:00:00      False      False       True    False    False   \n",
       "2018-04-02 00:00:00      False      False       True    False    False   \n",
       "2018-04-02 01:00:00      False      False       True    False    False   \n",
       "\n",
       "                     month_4  month_5  ...  hour_16  hour_17  hour_18  \\\n",
       "Dates                                  ...                              \n",
       "2014-01-01 00:00:00    False    False  ...    False    False    False   \n",
       "2014-01-01 01:00:00    False    False  ...    False    False    False   \n",
       "2014-01-01 02:00:00    False    False  ...    False    False    False   \n",
       "2014-01-01 03:00:00    False    False  ...    False    False    False   \n",
       "2014-01-01 04:00:00    False    False  ...    False    False    False   \n",
       "...                      ...      ...  ...      ...      ...      ...   \n",
       "2018-04-01 21:00:00     True    False  ...    False    False    False   \n",
       "2018-04-01 22:00:00     True    False  ...    False    False    False   \n",
       "2018-04-01 23:00:00     True    False  ...    False    False    False   \n",
       "2018-04-02 00:00:00     True    False  ...    False    False    False   \n",
       "2018-04-02 01:00:00     True    False  ...    False    False    False   \n",
       "\n",
       "                     hour_19  hour_20  hour_21  hour_22  hour_23  \\\n",
       "Dates                                                              \n",
       "2014-01-01 00:00:00    False    False    False    False    False   \n",
       "2014-01-01 01:00:00    False    False    False    False    False   \n",
       "2014-01-01 02:00:00    False    False    False    False    False   \n",
       "2014-01-01 03:00:00    False    False    False    False    False   \n",
       "2014-01-01 04:00:00    False    False    False    False    False   \n",
       "...                      ...      ...      ...      ...      ...   \n",
       "2018-04-01 21:00:00    False    False     True    False    False   \n",
       "2018-04-01 22:00:00    False    False    False     True    False   \n",
       "2018-04-01 23:00:00    False    False    False    False     True   \n",
       "2018-04-02 00:00:00    False    False    False    False    False   \n",
       "2018-04-02 01:00:00    False    False    False    False    False   \n",
       "\n",
       "                     season_winter  non_working_working  \n",
       "Dates                                                    \n",
       "2014-01-01 00:00:00           True                False  \n",
       "2014-01-01 01:00:00           True                False  \n",
       "2014-01-01 02:00:00           True                False  \n",
       "2014-01-01 03:00:00           True                False  \n",
       "2014-01-01 04:00:00           True                False  \n",
       "...                            ...                  ...  \n",
       "2018-04-01 21:00:00           True                False  \n",
       "2018-04-01 22:00:00           True                False  \n",
       "2018-04-01 23:00:00           True                False  \n",
       "2018-04-02 00:00:00           True                 True  \n",
       "2018-04-02 01:00:00           True                 True  \n",
       "\n",
       "[37250 rows x 42 columns]"
      ]
     },
     "execution_count": 31,
     "metadata": {},
     "output_type": "execute_result"
    }
   ],
   "source": [
    "X_train"
   ]
  },
  {
   "cell_type": "code",
   "execution_count": 32,
   "id": "43014319-813e-47b1-beb3-3305b92ca099",
   "metadata": {},
   "outputs": [
    {
     "data": {
      "text/html": [
       "<iframe\n",
       "    scrolling=\"no\"\n",
       "    width=\"100%\"\n",
       "    height=\"545px\"\n",
       "    src=\"iframe_figures/figure_32.html\"\n",
       "    frameborder=\"0\"\n",
       "    allowfullscreen\n",
       "></iframe>\n"
      ]
     },
     "metadata": {},
     "output_type": "display_data"
    }
   ],
   "source": [
    "plot_ts_pred(y_test, lm.predict(X_test), model_name='Simple linear regression with scaling', \n",
    "             og_ts_opacity = 0.5, pred_ts_opacity = 0.5)"
   ]
  },
  {
   "cell_type": "code",
   "execution_count": 33,
   "id": "49fc1c3e-9b05-4bce-ad32-5ea898df08a5",
   "metadata": {},
   "outputs": [
    {
     "data": {
      "text/plain": [
       "216724003310979.7"
      ]
     },
     "execution_count": 33,
     "metadata": {},
     "output_type": "execute_result"
    }
   ],
   "source": [
    "lm.coef_[12]"
   ]
  },
  {
   "cell_type": "code",
   "execution_count": 34,
   "id": "2a6a9a15-b074-49ae-8649-c7c37bc19356",
   "metadata": {},
   "outputs": [
    {
     "data": {
      "text/plain": [
       "[('fc1.weight',\n",
       "  Parameter containing:\n",
       "  tensor([[ 1.7208e+01, -9.9860e+01,  6.1973e+01,  1.5505e+02,  2.3189e+02,\n",
       "            3.0805e+02,  1.1305e+00,  4.2849e+00, -1.0539e+00,  1.2553e+01,\n",
       "            3.0327e+02,  3.2381e+02,  3.3653e+02,  3.3872e+02,  3.2879e+02,\n",
       "            5.2949e+01,  6.7054e+01,  3.3405e+00,  4.3224e+00,  1.8478e-01,\n",
       "            4.8330e+00,  9.3116e+00,  2.1638e+01,  2.4116e+01,  3.0670e+01,\n",
       "            2.8558e+01,  2.6697e+01,  3.2314e+01,  3.6122e+01,  3.7593e+01,\n",
       "            4.0016e+01,  3.9276e+01,  4.8724e+01,  5.7078e+01,  6.2254e+01,\n",
       "            6.4997e+01,  6.2172e+01,  5.0734e+01,  3.5629e+01,  2.3051e+01,\n",
       "            2.7402e+02,  1.6989e+01]], requires_grad=True)),\n",
       " ('fc1.bias',\n",
       "  Parameter containing:\n",
       "  tensor([1905.0148], requires_grad=True)),\n",
       " ('act_snake.a',\n",
       "  Parameter containing:\n",
       "  tensor([954.7298], requires_grad=True))]"
      ]
     },
     "execution_count": 34,
     "metadata": {},
     "output_type": "execute_result"
    }
   ],
   "source": [
    "list(model.named_parameters())"
   ]
  },
  {
   "cell_type": "code",
   "execution_count": 35,
   "id": "390fdad3-a3fd-447f-a1c0-d185a0ad0be5",
   "metadata": {},
   "outputs": [
    {
     "name": "stdout",
     "output_type": "stream",
     "text": [
      "\n",
      "Error metrics for model Sk_learn\n",
      "RMSE or Root mean squared error: 254.93\n",
      "Variance score: 0.73\n",
      "Mean Absolute Error: 195.01\n",
      "Mean Absolute Percentage Error: 8.38 %\n"
     ]
    }
   ],
   "source": [
    "error_metrics(lm.predict(X_test), y_test, model_name = 'Sk_learn', test = False)"
   ]
  },
  {
   "cell_type": "code",
   "execution_count": null,
   "id": "ccf6b8d3-35b4-434f-9dfa-5783bf1c04ec",
   "metadata": {},
   "outputs": [],
   "source": []
  }
 ],
 "metadata": {
  "kernelspec": {
   "display_name": "Python 3 (ipykernel)",
   "language": "python",
   "name": "python3"
  },
  "language_info": {
   "codemirror_mode": {
    "name": "ipython",
    "version": 3
   },
   "file_extension": ".py",
   "mimetype": "text/x-python",
   "name": "python",
   "nbconvert_exporter": "python",
   "pygments_lexer": "ipython3",
   "version": "3.11.3"
  }
 },
 "nbformat": 4,
 "nbformat_minor": 5
}
